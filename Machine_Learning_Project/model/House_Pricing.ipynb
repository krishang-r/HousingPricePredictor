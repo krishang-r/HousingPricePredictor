{
  "cells": [
    {
      "cell_type": "markdown",
      "metadata": {
        "id": "-8PP0pcBL_He"
      },
      "source": [
        "IMPORTING LIBRARIES"
      ]
    },
    {
      "cell_type": "code",
      "execution_count": 3,
      "metadata": {
        "id": "bzk0VGYTMFSN"
      },
      "outputs": [],
      "source": [
        "import numpy as np\n",
        "import pandas as pd\n",
        "from matplotlib import pyplot as plt\n",
        "%matplotlib inline\n",
        "import matplotlib\n",
        "matplotlib.rcParams[\"figure.figsize\"] = (20,10)"
      ]
    },
    {
      "cell_type": "code",
      "execution_count": 4,
      "metadata": {
        "colab": {
          "base_uri": "https://localhost:8080/",
          "height": 206
        },
        "id": "xf9w91ipM2dD",
        "outputId": "67f3b37d-07b1-4a3c-e2a3-8e441f7cee2e"
      },
      "outputs": [
        {
          "data": {
            "text/html": [
              "<div>\n",
              "<style scoped>\n",
              "    .dataframe tbody tr th:only-of-type {\n",
              "        vertical-align: middle;\n",
              "    }\n",
              "\n",
              "    .dataframe tbody tr th {\n",
              "        vertical-align: top;\n",
              "    }\n",
              "\n",
              "    .dataframe thead th {\n",
              "        text-align: right;\n",
              "    }\n",
              "</style>\n",
              "<table border=\"1\" class=\"dataframe\">\n",
              "  <thead>\n",
              "    <tr style=\"text-align: right;\">\n",
              "      <th></th>\n",
              "      <th>bhk</th>\n",
              "      <th>type</th>\n",
              "      <th>locality</th>\n",
              "      <th>area</th>\n",
              "      <th>price</th>\n",
              "      <th>price_unit</th>\n",
              "      <th>region</th>\n",
              "      <th>status</th>\n",
              "      <th>age</th>\n",
              "    </tr>\n",
              "  </thead>\n",
              "  <tbody>\n",
              "    <tr>\n",
              "      <th>0</th>\n",
              "      <td>3</td>\n",
              "      <td>Apartment</td>\n",
              "      <td>Lak And Hanware The Residency Tower</td>\n",
              "      <td>685</td>\n",
              "      <td>2.50</td>\n",
              "      <td>Cr</td>\n",
              "      <td>Andheri West</td>\n",
              "      <td>Ready to move</td>\n",
              "      <td>New</td>\n",
              "    </tr>\n",
              "    <tr>\n",
              "      <th>1</th>\n",
              "      <td>2</td>\n",
              "      <td>Apartment</td>\n",
              "      <td>Radheya Sai Enclave Building No 2</td>\n",
              "      <td>640</td>\n",
              "      <td>52.51</td>\n",
              "      <td>L</td>\n",
              "      <td>Naigaon East</td>\n",
              "      <td>Under Construction</td>\n",
              "      <td>New</td>\n",
              "    </tr>\n",
              "    <tr>\n",
              "      <th>2</th>\n",
              "      <td>2</td>\n",
              "      <td>Apartment</td>\n",
              "      <td>Romell Serene</td>\n",
              "      <td>610</td>\n",
              "      <td>1.73</td>\n",
              "      <td>Cr</td>\n",
              "      <td>Borivali West</td>\n",
              "      <td>Under Construction</td>\n",
              "      <td>New</td>\n",
              "    </tr>\n",
              "    <tr>\n",
              "      <th>3</th>\n",
              "      <td>2</td>\n",
              "      <td>Apartment</td>\n",
              "      <td>Soundlines Codename Urban Rainforest</td>\n",
              "      <td>876</td>\n",
              "      <td>59.98</td>\n",
              "      <td>L</td>\n",
              "      <td>Panvel</td>\n",
              "      <td>Under Construction</td>\n",
              "      <td>New</td>\n",
              "    </tr>\n",
              "    <tr>\n",
              "      <th>4</th>\n",
              "      <td>2</td>\n",
              "      <td>Apartment</td>\n",
              "      <td>Origin Oriana</td>\n",
              "      <td>659</td>\n",
              "      <td>94.11</td>\n",
              "      <td>L</td>\n",
              "      <td>Mira Road East</td>\n",
              "      <td>Under Construction</td>\n",
              "      <td>New</td>\n",
              "    </tr>\n",
              "  </tbody>\n",
              "</table>\n",
              "</div>"
            ],
            "text/plain": [
              "   bhk       type                              locality  area  price  \\\n",
              "0    3  Apartment   Lak And Hanware The Residency Tower   685   2.50   \n",
              "1    2  Apartment     Radheya Sai Enclave Building No 2   640  52.51   \n",
              "2    2  Apartment                         Romell Serene   610   1.73   \n",
              "3    2  Apartment  Soundlines Codename Urban Rainforest   876  59.98   \n",
              "4    2  Apartment                         Origin Oriana   659  94.11   \n",
              "\n",
              "  price_unit          region              status  age  \n",
              "0         Cr    Andheri West       Ready to move  New  \n",
              "1          L    Naigaon East  Under Construction  New  \n",
              "2         Cr   Borivali West  Under Construction  New  \n",
              "3          L          Panvel  Under Construction  New  \n",
              "4          L  Mira Road East  Under Construction  New  "
            ]
          },
          "execution_count": 4,
          "metadata": {},
          "output_type": "execute_result"
        }
      ],
      "source": [
        "df1 = pd.read_csv(\"Mumbai House Prices.csv\")\n",
        "df1.head()"
      ]
    },
    {
      "cell_type": "code",
      "execution_count": 5,
      "metadata": {
        "colab": {
          "base_uri": "https://localhost:8080/"
        },
        "id": "aGW0wihdM_AY",
        "outputId": "dbe91b11-12e3-4d68-8081-47c6cf24536f"
      },
      "outputs": [
        {
          "data": {
            "text/plain": [
              "(76038, 9)"
            ]
          },
          "execution_count": 5,
          "metadata": {},
          "output_type": "execute_result"
        }
      ],
      "source": [
        "df1.shape"
      ]
    },
    {
      "cell_type": "code",
      "execution_count": 6,
      "metadata": {
        "colab": {
          "base_uri": "https://localhost:8080/",
          "height": 272
        },
        "id": "ShSgrG2vNFsb",
        "outputId": "8e9629f3-7304-4992-84d0-138798ab5c9c"
      },
      "outputs": [
        {
          "data": {
            "text/plain": [
              "type\n",
              "Apartment            74854\n",
              "Independent House       73\n",
              "Penthouse                3\n",
              "Studio Apartment       882\n",
              "Villa                  226\n",
              "Name: type, dtype: int64"
            ]
          },
          "execution_count": 6,
          "metadata": {},
          "output_type": "execute_result"
        }
      ],
      "source": [
        "df1.groupby('type')['type'].agg('count')"
      ]
    },
    {
      "cell_type": "code",
      "execution_count": 7,
      "metadata": {
        "colab": {
          "base_uri": "https://localhost:8080/",
          "height": 206
        },
        "id": "Y4rCZs9FNhDX",
        "outputId": "bfcf0353-27ff-45d6-c9d8-5778f267d191"
      },
      "outputs": [
        {
          "data": {
            "text/html": [
              "<div>\n",
              "<style scoped>\n",
              "    .dataframe tbody tr th:only-of-type {\n",
              "        vertical-align: middle;\n",
              "    }\n",
              "\n",
              "    .dataframe tbody tr th {\n",
              "        vertical-align: top;\n",
              "    }\n",
              "\n",
              "    .dataframe thead th {\n",
              "        text-align: right;\n",
              "    }\n",
              "</style>\n",
              "<table border=\"1\" class=\"dataframe\">\n",
              "  <thead>\n",
              "    <tr style=\"text-align: right;\">\n",
              "      <th></th>\n",
              "      <th>bhk</th>\n",
              "      <th>type</th>\n",
              "      <th>area</th>\n",
              "      <th>price</th>\n",
              "      <th>price_unit</th>\n",
              "      <th>region</th>\n",
              "    </tr>\n",
              "  </thead>\n",
              "  <tbody>\n",
              "    <tr>\n",
              "      <th>0</th>\n",
              "      <td>3</td>\n",
              "      <td>Apartment</td>\n",
              "      <td>685</td>\n",
              "      <td>2.50</td>\n",
              "      <td>Cr</td>\n",
              "      <td>Andheri West</td>\n",
              "    </tr>\n",
              "    <tr>\n",
              "      <th>1</th>\n",
              "      <td>2</td>\n",
              "      <td>Apartment</td>\n",
              "      <td>640</td>\n",
              "      <td>52.51</td>\n",
              "      <td>L</td>\n",
              "      <td>Naigaon East</td>\n",
              "    </tr>\n",
              "    <tr>\n",
              "      <th>2</th>\n",
              "      <td>2</td>\n",
              "      <td>Apartment</td>\n",
              "      <td>610</td>\n",
              "      <td>1.73</td>\n",
              "      <td>Cr</td>\n",
              "      <td>Borivali West</td>\n",
              "    </tr>\n",
              "    <tr>\n",
              "      <th>3</th>\n",
              "      <td>2</td>\n",
              "      <td>Apartment</td>\n",
              "      <td>876</td>\n",
              "      <td>59.98</td>\n",
              "      <td>L</td>\n",
              "      <td>Panvel</td>\n",
              "    </tr>\n",
              "    <tr>\n",
              "      <th>4</th>\n",
              "      <td>2</td>\n",
              "      <td>Apartment</td>\n",
              "      <td>659</td>\n",
              "      <td>94.11</td>\n",
              "      <td>L</td>\n",
              "      <td>Mira Road East</td>\n",
              "    </tr>\n",
              "  </tbody>\n",
              "</table>\n",
              "</div>"
            ],
            "text/plain": [
              "   bhk       type  area  price price_unit          region\n",
              "0    3  Apartment   685   2.50         Cr    Andheri West\n",
              "1    2  Apartment   640  52.51          L    Naigaon East\n",
              "2    2  Apartment   610   1.73         Cr   Borivali West\n",
              "3    2  Apartment   876  59.98          L          Panvel\n",
              "4    2  Apartment   659  94.11          L  Mira Road East"
            ]
          },
          "execution_count": 7,
          "metadata": {},
          "output_type": "execute_result"
        }
      ],
      "source": [
        "df2 = df1.drop(['locality','status','age'], axis='columns')\n",
        "df2.head()"
      ]
    },
    {
      "cell_type": "code",
      "execution_count": 8,
      "metadata": {
        "colab": {
          "base_uri": "https://localhost:8080/",
          "height": 272
        },
        "id": "ln_y7Cv4N_qY",
        "outputId": "2b0c13f5-a4d5-43d8-802d-240320f99fbc"
      },
      "outputs": [
        {
          "data": {
            "text/plain": [
              "bhk           0\n",
              "type          0\n",
              "area          0\n",
              "price         0\n",
              "price_unit    0\n",
              "region        0\n",
              "dtype: int64"
            ]
          },
          "execution_count": 8,
          "metadata": {},
          "output_type": "execute_result"
        }
      ],
      "source": [
        "df2.isnull().sum()"
      ]
    },
    {
      "cell_type": "code",
      "execution_count": 9,
      "metadata": {
        "colab": {
          "base_uri": "https://localhost:8080/",
          "height": 272
        },
        "id": "yAiVopvzXx77",
        "outputId": "febe02ae-cb7e-4ff3-ed25-430673ec1b30"
      },
      "outputs": [
        {
          "data": {
            "text/plain": [
              "bhk           0\n",
              "type          0\n",
              "area          0\n",
              "price         0\n",
              "price_unit    0\n",
              "region        0\n",
              "dtype: int64"
            ]
          },
          "execution_count": 9,
          "metadata": {},
          "output_type": "execute_result"
        }
      ],
      "source": [
        "df2 = df2.dropna()\n",
        "df2.isnull().sum()"
      ]
    },
    {
      "cell_type": "code",
      "execution_count": 10,
      "metadata": {
        "colab": {
          "base_uri": "https://localhost:8080/"
        },
        "id": "W9yvMuOFOOmH",
        "outputId": "69a7a59f-04b0-432e-8ab4-aa2dd15652dd"
      },
      "outputs": [
        {
          "data": {
            "text/plain": [
              "array([ 3,  2,  5,  1,  4,  6,  9,  8, 10,  7])"
            ]
          },
          "execution_count": 10,
          "metadata": {},
          "output_type": "execute_result"
        }
      ],
      "source": [
        "df2['bhk'].unique()"
      ]
    },
    {
      "cell_type": "code",
      "execution_count": 11,
      "metadata": {
        "colab": {
          "base_uri": "https://localhost:8080/",
          "height": 424
        },
        "id": "lllGJyahPTri",
        "outputId": "c2a912f9-52da-4231-e0ca-0750403c1d3d"
      },
      "outputs": [
        {
          "data": {
            "text/html": [
              "<div>\n",
              "<style scoped>\n",
              "    .dataframe tbody tr th:only-of-type {\n",
              "        vertical-align: middle;\n",
              "    }\n",
              "\n",
              "    .dataframe tbody tr th {\n",
              "        vertical-align: top;\n",
              "    }\n",
              "\n",
              "    .dataframe thead th {\n",
              "        text-align: right;\n",
              "    }\n",
              "</style>\n",
              "<table border=\"1\" class=\"dataframe\">\n",
              "  <thead>\n",
              "    <tr style=\"text-align: right;\">\n",
              "      <th></th>\n",
              "      <th>bhk</th>\n",
              "      <th>type</th>\n",
              "      <th>area</th>\n",
              "      <th>price</th>\n",
              "      <th>price_unit</th>\n",
              "      <th>region</th>\n",
              "    </tr>\n",
              "  </thead>\n",
              "  <tbody>\n",
              "    <tr>\n",
              "      <th>1</th>\n",
              "      <td>2</td>\n",
              "      <td>Apartment</td>\n",
              "      <td>640</td>\n",
              "      <td>52.51</td>\n",
              "      <td>L</td>\n",
              "      <td>Naigaon East</td>\n",
              "    </tr>\n",
              "    <tr>\n",
              "      <th>3</th>\n",
              "      <td>2</td>\n",
              "      <td>Apartment</td>\n",
              "      <td>876</td>\n",
              "      <td>59.98</td>\n",
              "      <td>L</td>\n",
              "      <td>Panvel</td>\n",
              "    </tr>\n",
              "    <tr>\n",
              "      <th>4</th>\n",
              "      <td>2</td>\n",
              "      <td>Apartment</td>\n",
              "      <td>659</td>\n",
              "      <td>94.11</td>\n",
              "      <td>L</td>\n",
              "      <td>Mira Road East</td>\n",
              "    </tr>\n",
              "    <tr>\n",
              "      <th>8</th>\n",
              "      <td>1</td>\n",
              "      <td>Apartment</td>\n",
              "      <td>396</td>\n",
              "      <td>29.84</td>\n",
              "      <td>L</td>\n",
              "      <td>Badlapur East</td>\n",
              "    </tr>\n",
              "    <tr>\n",
              "      <th>10</th>\n",
              "      <td>1</td>\n",
              "      <td>Studio Apartment</td>\n",
              "      <td>502</td>\n",
              "      <td>16.56</td>\n",
              "      <td>L</td>\n",
              "      <td>Badlapur West</td>\n",
              "    </tr>\n",
              "    <tr>\n",
              "      <th>...</th>\n",
              "      <td>...</td>\n",
              "      <td>...</td>\n",
              "      <td>...</td>\n",
              "      <td>...</td>\n",
              "      <td>...</td>\n",
              "      <td>...</td>\n",
              "    </tr>\n",
              "    <tr>\n",
              "      <th>75993</th>\n",
              "      <td>1</td>\n",
              "      <td>Apartment</td>\n",
              "      <td>450</td>\n",
              "      <td>74.00</td>\n",
              "      <td>L</td>\n",
              "      <td>Thane West</td>\n",
              "    </tr>\n",
              "    <tr>\n",
              "      <th>76028</th>\n",
              "      <td>2</td>\n",
              "      <td>Apartment</td>\n",
              "      <td>639</td>\n",
              "      <td>87.47</td>\n",
              "      <td>L</td>\n",
              "      <td>Thane West</td>\n",
              "    </tr>\n",
              "    <tr>\n",
              "      <th>76029</th>\n",
              "      <td>2</td>\n",
              "      <td>Apartment</td>\n",
              "      <td>550</td>\n",
              "      <td>75.26</td>\n",
              "      <td>L</td>\n",
              "      <td>Thane West</td>\n",
              "    </tr>\n",
              "    <tr>\n",
              "      <th>76034</th>\n",
              "      <td>5</td>\n",
              "      <td>Apartment</td>\n",
              "      <td>3049</td>\n",
              "      <td>12.00</td>\n",
              "      <td>Cr</td>\n",
              "      <td>Juhu</td>\n",
              "    </tr>\n",
              "    <tr>\n",
              "      <th>76037</th>\n",
              "      <td>5</td>\n",
              "      <td>Apartment</td>\n",
              "      <td>5200</td>\n",
              "      <td>25.00</td>\n",
              "      <td>Cr</td>\n",
              "      <td>Bandra Kurla Complex</td>\n",
              "    </tr>\n",
              "  </tbody>\n",
              "</table>\n",
              "<p>35742 rows × 6 columns</p>\n",
              "</div>"
            ],
            "text/plain": [
              "       bhk              type  area  price price_unit                region\n",
              "1        2         Apartment   640  52.51          L          Naigaon East\n",
              "3        2         Apartment   876  59.98          L                Panvel\n",
              "4        2         Apartment   659  94.11          L        Mira Road East\n",
              "8        1         Apartment   396  29.84          L         Badlapur East\n",
              "10       1  Studio Apartment   502  16.56          L         Badlapur West\n",
              "...    ...               ...   ...    ...        ...                   ...\n",
              "75993    1         Apartment   450  74.00          L            Thane West\n",
              "76028    2         Apartment   639  87.47          L            Thane West\n",
              "76029    2         Apartment   550  75.26          L            Thane West\n",
              "76034    5         Apartment  3049  12.00         Cr                  Juhu\n",
              "76037    5         Apartment  5200  25.00         Cr  Bandra Kurla Complex\n",
              "\n",
              "[35742 rows x 6 columns]"
            ]
          },
          "execution_count": 11,
          "metadata": {},
          "output_type": "execute_result"
        }
      ],
      "source": [
        "df2[df2.price>10]"
      ]
    },
    {
      "cell_type": "code",
      "execution_count": 12,
      "metadata": {
        "colab": {
          "base_uri": "https://localhost:8080/"
        },
        "id": "QGY956YPRNUG",
        "outputId": "60f804ee-2706-47db-f783-6a519327409d"
      },
      "outputs": [
        {
          "data": {
            "text/plain": [
              "array([ 685,  640,  610, ..., 1974, 1634, 3049])"
            ]
          },
          "execution_count": 12,
          "metadata": {},
          "output_type": "execute_result"
        }
      ],
      "source": [
        "df2.area.unique()"
      ]
    },
    {
      "cell_type": "code",
      "execution_count": 13,
      "metadata": {
        "id": "drP0ExSnTh7l"
      },
      "outputs": [],
      "source": [
        "for index, row in df2.iterrows():\n",
        "    if row['price_unit'] == 'Cr':\n",
        "        df2.at[index, 'price'] = row['price'] * 100"
      ]
    },
    {
      "cell_type": "code",
      "execution_count": 14,
      "metadata": {
        "colab": {
          "base_uri": "https://localhost:8080/",
          "height": 206
        },
        "id": "nMZn0rSNW8M-",
        "outputId": "29cbfea8-c4a4-42b8-e1d2-ca9dcfe3e9c7"
      },
      "outputs": [
        {
          "data": {
            "text/html": [
              "<div>\n",
              "<style scoped>\n",
              "    .dataframe tbody tr th:only-of-type {\n",
              "        vertical-align: middle;\n",
              "    }\n",
              "\n",
              "    .dataframe tbody tr th {\n",
              "        vertical-align: top;\n",
              "    }\n",
              "\n",
              "    .dataframe thead th {\n",
              "        text-align: right;\n",
              "    }\n",
              "</style>\n",
              "<table border=\"1\" class=\"dataframe\">\n",
              "  <thead>\n",
              "    <tr style=\"text-align: right;\">\n",
              "      <th></th>\n",
              "      <th>bhk</th>\n",
              "      <th>type</th>\n",
              "      <th>area</th>\n",
              "      <th>price</th>\n",
              "      <th>price_unit</th>\n",
              "      <th>region</th>\n",
              "    </tr>\n",
              "  </thead>\n",
              "  <tbody>\n",
              "    <tr>\n",
              "      <th>0</th>\n",
              "      <td>3</td>\n",
              "      <td>Apartment</td>\n",
              "      <td>685</td>\n",
              "      <td>250.00</td>\n",
              "      <td>Cr</td>\n",
              "      <td>Andheri West</td>\n",
              "    </tr>\n",
              "    <tr>\n",
              "      <th>1</th>\n",
              "      <td>2</td>\n",
              "      <td>Apartment</td>\n",
              "      <td>640</td>\n",
              "      <td>52.51</td>\n",
              "      <td>L</td>\n",
              "      <td>Naigaon East</td>\n",
              "    </tr>\n",
              "    <tr>\n",
              "      <th>2</th>\n",
              "      <td>2</td>\n",
              "      <td>Apartment</td>\n",
              "      <td>610</td>\n",
              "      <td>173.00</td>\n",
              "      <td>Cr</td>\n",
              "      <td>Borivali West</td>\n",
              "    </tr>\n",
              "    <tr>\n",
              "      <th>3</th>\n",
              "      <td>2</td>\n",
              "      <td>Apartment</td>\n",
              "      <td>876</td>\n",
              "      <td>59.98</td>\n",
              "      <td>L</td>\n",
              "      <td>Panvel</td>\n",
              "    </tr>\n",
              "    <tr>\n",
              "      <th>4</th>\n",
              "      <td>2</td>\n",
              "      <td>Apartment</td>\n",
              "      <td>659</td>\n",
              "      <td>94.11</td>\n",
              "      <td>L</td>\n",
              "      <td>Mira Road East</td>\n",
              "    </tr>\n",
              "  </tbody>\n",
              "</table>\n",
              "</div>"
            ],
            "text/plain": [
              "   bhk       type  area   price price_unit          region\n",
              "0    3  Apartment   685  250.00         Cr    Andheri West\n",
              "1    2  Apartment   640   52.51          L    Naigaon East\n",
              "2    2  Apartment   610  173.00         Cr   Borivali West\n",
              "3    2  Apartment   876   59.98          L          Panvel\n",
              "4    2  Apartment   659   94.11          L  Mira Road East"
            ]
          },
          "execution_count": 14,
          "metadata": {},
          "output_type": "execute_result"
        }
      ],
      "source": [
        "df2.head()"
      ]
    },
    {
      "cell_type": "code",
      "execution_count": 15,
      "metadata": {
        "colab": {
          "base_uri": "https://localhost:8080/",
          "height": 206
        },
        "id": "S4T9vrR8Zxzs",
        "outputId": "3ecc9d54-7b66-434e-8c01-0ca65dead8f2"
      },
      "outputs": [
        {
          "data": {
            "text/html": [
              "<div>\n",
              "<style scoped>\n",
              "    .dataframe tbody tr th:only-of-type {\n",
              "        vertical-align: middle;\n",
              "    }\n",
              "\n",
              "    .dataframe tbody tr th {\n",
              "        vertical-align: top;\n",
              "    }\n",
              "\n",
              "    .dataframe thead th {\n",
              "        text-align: right;\n",
              "    }\n",
              "</style>\n",
              "<table border=\"1\" class=\"dataframe\">\n",
              "  <thead>\n",
              "    <tr style=\"text-align: right;\">\n",
              "      <th></th>\n",
              "      <th>bhk</th>\n",
              "      <th>type</th>\n",
              "      <th>area</th>\n",
              "      <th>price</th>\n",
              "      <th>region</th>\n",
              "    </tr>\n",
              "  </thead>\n",
              "  <tbody>\n",
              "    <tr>\n",
              "      <th>0</th>\n",
              "      <td>3</td>\n",
              "      <td>Apartment</td>\n",
              "      <td>685</td>\n",
              "      <td>250.00</td>\n",
              "      <td>Andheri West</td>\n",
              "    </tr>\n",
              "    <tr>\n",
              "      <th>1</th>\n",
              "      <td>2</td>\n",
              "      <td>Apartment</td>\n",
              "      <td>640</td>\n",
              "      <td>52.51</td>\n",
              "      <td>Naigaon East</td>\n",
              "    </tr>\n",
              "    <tr>\n",
              "      <th>2</th>\n",
              "      <td>2</td>\n",
              "      <td>Apartment</td>\n",
              "      <td>610</td>\n",
              "      <td>173.00</td>\n",
              "      <td>Borivali West</td>\n",
              "    </tr>\n",
              "    <tr>\n",
              "      <th>3</th>\n",
              "      <td>2</td>\n",
              "      <td>Apartment</td>\n",
              "      <td>876</td>\n",
              "      <td>59.98</td>\n",
              "      <td>Panvel</td>\n",
              "    </tr>\n",
              "    <tr>\n",
              "      <th>4</th>\n",
              "      <td>2</td>\n",
              "      <td>Apartment</td>\n",
              "      <td>659</td>\n",
              "      <td>94.11</td>\n",
              "      <td>Mira Road East</td>\n",
              "    </tr>\n",
              "  </tbody>\n",
              "</table>\n",
              "</div>"
            ],
            "text/plain": [
              "   bhk       type  area   price          region\n",
              "0    3  Apartment   685  250.00    Andheri West\n",
              "1    2  Apartment   640   52.51    Naigaon East\n",
              "2    2  Apartment   610  173.00   Borivali West\n",
              "3    2  Apartment   876   59.98          Panvel\n",
              "4    2  Apartment   659   94.11  Mira Road East"
            ]
          },
          "execution_count": 15,
          "metadata": {},
          "output_type": "execute_result"
        }
      ],
      "source": [
        "df3 = df2.drop(['price_unit'], axis='columns')\n",
        "df3.head()"
      ]
    },
    {
      "cell_type": "code",
      "execution_count": 16,
      "metadata": {
        "colab": {
          "base_uri": "https://localhost:8080/",
          "height": 206
        },
        "id": "K6w4-63YZ0kX",
        "outputId": "80367b8e-111a-4abb-dbfe-6071e111c41c"
      },
      "outputs": [
        {
          "data": {
            "text/html": [
              "<div>\n",
              "<style scoped>\n",
              "    .dataframe tbody tr th:only-of-type {\n",
              "        vertical-align: middle;\n",
              "    }\n",
              "\n",
              "    .dataframe tbody tr th {\n",
              "        vertical-align: top;\n",
              "    }\n",
              "\n",
              "    .dataframe thead th {\n",
              "        text-align: right;\n",
              "    }\n",
              "</style>\n",
              "<table border=\"1\" class=\"dataframe\">\n",
              "  <thead>\n",
              "    <tr style=\"text-align: right;\">\n",
              "      <th></th>\n",
              "      <th>bhk</th>\n",
              "      <th>type</th>\n",
              "      <th>area</th>\n",
              "      <th>price</th>\n",
              "      <th>region</th>\n",
              "      <th>price_per_sqft</th>\n",
              "    </tr>\n",
              "  </thead>\n",
              "  <tbody>\n",
              "    <tr>\n",
              "      <th>0</th>\n",
              "      <td>3</td>\n",
              "      <td>Apartment</td>\n",
              "      <td>685</td>\n",
              "      <td>250.00</td>\n",
              "      <td>Andheri West</td>\n",
              "      <td>36496.350365</td>\n",
              "    </tr>\n",
              "    <tr>\n",
              "      <th>1</th>\n",
              "      <td>2</td>\n",
              "      <td>Apartment</td>\n",
              "      <td>640</td>\n",
              "      <td>52.51</td>\n",
              "      <td>Naigaon East</td>\n",
              "      <td>8204.687500</td>\n",
              "    </tr>\n",
              "    <tr>\n",
              "      <th>2</th>\n",
              "      <td>2</td>\n",
              "      <td>Apartment</td>\n",
              "      <td>610</td>\n",
              "      <td>173.00</td>\n",
              "      <td>Borivali West</td>\n",
              "      <td>28360.655738</td>\n",
              "    </tr>\n",
              "    <tr>\n",
              "      <th>3</th>\n",
              "      <td>2</td>\n",
              "      <td>Apartment</td>\n",
              "      <td>876</td>\n",
              "      <td>59.98</td>\n",
              "      <td>Panvel</td>\n",
              "      <td>6847.031963</td>\n",
              "    </tr>\n",
              "    <tr>\n",
              "      <th>4</th>\n",
              "      <td>2</td>\n",
              "      <td>Apartment</td>\n",
              "      <td>659</td>\n",
              "      <td>94.11</td>\n",
              "      <td>Mira Road East</td>\n",
              "      <td>14280.728376</td>\n",
              "    </tr>\n",
              "  </tbody>\n",
              "</table>\n",
              "</div>"
            ],
            "text/plain": [
              "   bhk       type  area   price          region  price_per_sqft\n",
              "0    3  Apartment   685  250.00    Andheri West    36496.350365\n",
              "1    2  Apartment   640   52.51    Naigaon East     8204.687500\n",
              "2    2  Apartment   610  173.00   Borivali West    28360.655738\n",
              "3    2  Apartment   876   59.98          Panvel     6847.031963\n",
              "4    2  Apartment   659   94.11  Mira Road East    14280.728376"
            ]
          },
          "execution_count": 16,
          "metadata": {},
          "output_type": "execute_result"
        }
      ],
      "source": [
        "df4 = df3.copy()\n",
        "df4['price_per_sqft'] = df4['price']*100000/df4['area']\n",
        "df4.head()"
      ]
    },
    {
      "cell_type": "code",
      "execution_count": 17,
      "metadata": {
        "colab": {
          "base_uri": "https://localhost:8080/"
        },
        "id": "tPR8IQgjlj4k",
        "outputId": "c8536bdb-4140-4a85-9805-878ce8628502"
      },
      "outputs": [
        {
          "data": {
            "text/plain": [
              "228"
            ]
          },
          "execution_count": 17,
          "metadata": {},
          "output_type": "execute_result"
        }
      ],
      "source": [
        "len(df4.region.unique())"
      ]
    },
    {
      "cell_type": "code",
      "execution_count": 18,
      "metadata": {
        "colab": {
          "base_uri": "https://localhost:8080/",
          "height": 490
        },
        "id": "BkUTwNtvl7EQ",
        "outputId": "70bf9d29-8e07-4ec4-acd9-c103ff03101b"
      },
      "outputs": [
        {
          "data": {
            "text/plain": [
              "region\n",
              "Thane West             14868\n",
              "Mira Road East          9902\n",
              "Dombivali               3041\n",
              "Kandivali East          2568\n",
              "Kharghar                2362\n",
              "                       ...  \n",
              "Rambaug                    1\n",
              "Police Colony              1\n",
              "Pestom Sagar Colony        1\n",
              "Pen                        1\n",
              "vile parle west            1\n",
              "Name: region, Length: 228, dtype: int64"
            ]
          },
          "execution_count": 18,
          "metadata": {},
          "output_type": "execute_result"
        }
      ],
      "source": [
        "df4.region = df4.region.apply(lambda x: x.strip())\n",
        "region_stats = df4.groupby('region')['region'].agg('count').sort_values(ascending=False)\n",
        "region_stats"
      ]
    },
    {
      "cell_type": "code",
      "execution_count": 19,
      "metadata": {
        "colab": {
          "base_uri": "https://localhost:8080/"
        },
        "id": "Q8kH8Uqomlo-",
        "outputId": "f3bc47f4-8e48-4484-9291-4ad9fafa0302"
      },
      "outputs": [
        {
          "data": {
            "text/plain": [
              "114"
            ]
          },
          "execution_count": 19,
          "metadata": {},
          "output_type": "execute_result"
        }
      ],
      "source": [
        "len(region_stats[region_stats<=10])"
      ]
    },
    {
      "cell_type": "code",
      "execution_count": 20,
      "metadata": {
        "colab": {
          "base_uri": "https://localhost:8080/",
          "height": 490
        },
        "id": "7tT4jlKPntpK",
        "outputId": "a917d5ac-1d89-4421-e66c-d73b28bafaa6"
      },
      "outputs": [
        {
          "data": {
            "text/plain": [
              "region\n",
              "Sector 20 Kamothe      10\n",
              "Kanjurmarg East        10\n",
              "Vasind                 10\n",
              "Koproli                10\n",
              "Maneklal Estate         9\n",
              "                       ..\n",
              "Rambaug                 1\n",
              "Police Colony           1\n",
              "Pestom Sagar Colony     1\n",
              "Pen                     1\n",
              "vile parle west         1\n",
              "Name: region, Length: 114, dtype: int64"
            ]
          },
          "execution_count": 20,
          "metadata": {},
          "output_type": "execute_result"
        }
      ],
      "source": [
        "region_stats_less_than_10 = region_stats[region_stats<=10]\n",
        "region_stats_less_than_10"
      ]
    },
    {
      "cell_type": "code",
      "execution_count": 21,
      "metadata": {
        "colab": {
          "base_uri": "https://localhost:8080/"
        },
        "id": "jnpOInT2oQXr",
        "outputId": "9c957c0e-41f1-4458-9fe4-0845b544347f"
      },
      "outputs": [
        {
          "data": {
            "text/plain": [
              "228"
            ]
          },
          "execution_count": 21,
          "metadata": {},
          "output_type": "execute_result"
        }
      ],
      "source": [
        "len(df4.region.unique())"
      ]
    },
    {
      "cell_type": "code",
      "execution_count": 22,
      "metadata": {
        "colab": {
          "base_uri": "https://localhost:8080/"
        },
        "id": "9MrCSqhqUl3y",
        "outputId": "fda14144-9bee-4e62-f89b-b2503e1ca984"
      },
      "outputs": [
        {
          "data": {
            "text/plain": [
              "115"
            ]
          },
          "execution_count": 22,
          "metadata": {},
          "output_type": "execute_result"
        }
      ],
      "source": [
        "df4.region = df4.region.apply(lambda x: 'other' if x in region_stats_less_than_10 else x)\n",
        "len(df4.region.unique())"
      ]
    },
    {
      "cell_type": "code",
      "execution_count": 23,
      "metadata": {
        "colab": {
          "base_uri": "https://localhost:8080/",
          "height": 206
        },
        "id": "HMzPXPQcEEg2",
        "outputId": "40f976b4-8dd5-4092-eb36-f8b846574675"
      },
      "outputs": [
        {
          "data": {
            "text/html": [
              "<div>\n",
              "<style scoped>\n",
              "    .dataframe tbody tr th:only-of-type {\n",
              "        vertical-align: middle;\n",
              "    }\n",
              "\n",
              "    .dataframe tbody tr th {\n",
              "        vertical-align: top;\n",
              "    }\n",
              "\n",
              "    .dataframe thead th {\n",
              "        text-align: right;\n",
              "    }\n",
              "</style>\n",
              "<table border=\"1\" class=\"dataframe\">\n",
              "  <thead>\n",
              "    <tr style=\"text-align: right;\">\n",
              "      <th></th>\n",
              "      <th>bhk</th>\n",
              "      <th>type</th>\n",
              "      <th>area</th>\n",
              "      <th>price</th>\n",
              "      <th>region</th>\n",
              "      <th>price_per_sqft</th>\n",
              "    </tr>\n",
              "  </thead>\n",
              "  <tbody>\n",
              "    <tr>\n",
              "      <th>0</th>\n",
              "      <td>3</td>\n",
              "      <td>Apartment</td>\n",
              "      <td>685</td>\n",
              "      <td>250.0</td>\n",
              "      <td>Andheri West</td>\n",
              "      <td>36496.350365</td>\n",
              "    </tr>\n",
              "    <tr>\n",
              "      <th>7</th>\n",
              "      <td>3</td>\n",
              "      <td>Apartment</td>\n",
              "      <td>778</td>\n",
              "      <td>289.0</td>\n",
              "      <td>Santacruz East</td>\n",
              "      <td>37146.529563</td>\n",
              "    </tr>\n",
              "    <tr>\n",
              "      <th>12</th>\n",
              "      <td>3</td>\n",
              "      <td>Apartment</td>\n",
              "      <td>753</td>\n",
              "      <td>177.0</td>\n",
              "      <td>Chembur</td>\n",
              "      <td>23505.976096</td>\n",
              "    </tr>\n",
              "    <tr>\n",
              "      <th>18</th>\n",
              "      <td>2</td>\n",
              "      <td>Apartment</td>\n",
              "      <td>555</td>\n",
              "      <td>142.0</td>\n",
              "      <td>Thane West</td>\n",
              "      <td>25585.585586</td>\n",
              "    </tr>\n",
              "    <tr>\n",
              "      <th>20</th>\n",
              "      <td>2</td>\n",
              "      <td>Apartment</td>\n",
              "      <td>582</td>\n",
              "      <td>149.0</td>\n",
              "      <td>Vikhroli</td>\n",
              "      <td>25601.374570</td>\n",
              "    </tr>\n",
              "  </tbody>\n",
              "</table>\n",
              "</div>"
            ],
            "text/plain": [
              "    bhk       type  area  price          region  price_per_sqft\n",
              "0     3  Apartment   685  250.0    Andheri West    36496.350365\n",
              "7     3  Apartment   778  289.0  Santacruz East    37146.529563\n",
              "12    3  Apartment   753  177.0         Chembur    23505.976096\n",
              "18    2  Apartment   555  142.0      Thane West    25585.585586\n",
              "20    2  Apartment   582  149.0        Vikhroli    25601.374570"
            ]
          },
          "execution_count": 23,
          "metadata": {},
          "output_type": "execute_result"
        }
      ],
      "source": [
        "df4[df4.area/df4.bhk<300].head()"
      ]
    },
    {
      "cell_type": "code",
      "execution_count": 24,
      "metadata": {
        "colab": {
          "base_uri": "https://localhost:8080/"
        },
        "id": "EjMTZQWOEag0",
        "outputId": "7e595f45-3110-4f1e-9a27-c86d77797960"
      },
      "outputs": [
        {
          "data": {
            "text/plain": [
              "(76038, 6)"
            ]
          },
          "execution_count": 24,
          "metadata": {},
          "output_type": "execute_result"
        }
      ],
      "source": [
        "df4.shape"
      ]
    },
    {
      "cell_type": "code",
      "execution_count": 25,
      "metadata": {
        "colab": {
          "base_uri": "https://localhost:8080/"
        },
        "id": "bD-DIpKtFzj0",
        "outputId": "2f7d9ecb-d310-4afe-9b29-b9d4c9f9e131"
      },
      "outputs": [
        {
          "data": {
            "text/plain": [
              "(71567, 6)"
            ]
          },
          "execution_count": 25,
          "metadata": {},
          "output_type": "execute_result"
        }
      ],
      "source": [
        "df5 = df4[~(df4.area/df4.bhk<300)]\n",
        "df5.shape"
      ]
    },
    {
      "cell_type": "code",
      "execution_count": 26,
      "metadata": {
        "colab": {
          "base_uri": "https://localhost:8080/",
          "height": 335
        },
        "id": "gBXrD3RAGbS9",
        "outputId": "fc373c96-0a9e-4f83-8dd9-e2c4b83eb2e8"
      },
      "outputs": [
        {
          "data": {
            "text/plain": [
              "count     71567.000000\n",
              "mean      14946.070563\n",
              "std        9379.789589\n",
              "min         646.766169\n",
              "25%        8455.882353\n",
              "50%       12727.272727\n",
              "75%       19165.727170\n",
              "max      182307.692308\n",
              "Name: price_per_sqft, dtype: float64"
            ]
          },
          "execution_count": 26,
          "metadata": {},
          "output_type": "execute_result"
        }
      ],
      "source": [
        "df5.price_per_sqft.describe()"
      ]
    },
    {
      "cell_type": "code",
      "execution_count": 27,
      "metadata": {
        "colab": {
          "base_uri": "https://localhost:8080/"
        },
        "id": "v8FFgKKDGgy8",
        "outputId": "dc5cc9ee-8743-405e-d354-2488c6caa05c"
      },
      "outputs": [
        {
          "data": {
            "text/plain": [
              "(53873, 6)"
            ]
          },
          "execution_count": 27,
          "metadata": {},
          "output_type": "execute_result"
        }
      ],
      "source": [
        "def remove_pps_outliers(df):\n",
        "  df_out = pd.DataFrame()\n",
        "  for key, subdf in df.groupby('region'):\n",
        "    m = np.mean(subdf.price_per_sqft)\n",
        "    st = np.std(subdf.price_per_sqft)\n",
        "    reduced_df = subdf[(subdf.price_per_sqft>(m-st)) & (subdf.price_per_sqft<=(m+st))]\n",
        "    df_out = pd.concat([df_out,reduced_df],ignore_index=True)\n",
        "  return df_out\n",
        "df6 = remove_pps_outliers(df5)\n",
        "df6.shape"
      ]
    },
    {
      "cell_type": "code",
      "execution_count": 28,
      "metadata": {
        "colab": {
          "base_uri": "https://localhost:8080/",
          "height": 739
        },
        "id": "95bD1WIQQoDM",
        "outputId": "7b27bc79-8486-423f-fa83-19622ad48b3d"
      },
      "outputs": [
        {
          "data": {
            "image/png": "[encoded data removed]",
            "text/plain": [
              "<Figure size 1500x1000 with 1 Axes>"
            ]
          },
          "metadata": {},
          "output_type": "display_data"
        }
      ],
      "source": [
        "def plot_scatter_chart(df, region):\n",
        "  bhk2 = df[(df.region == region) & (df.bhk == 2)]\n",
        "  bhk3 = df[(df.region == region) & (df.bhk == 3)]\n",
        "  matplotlib.rcParams['figure.figsize'] = (15,10)\n",
        "  plt.scatter(bhk2.area,bhk2.price,color='blue',label='2 BHK', s=50)\n",
        "  plt.scatter(bhk3.area,bhk3.price, marker='+', color='green',label='3 BHK', s=50)\n",
        "  plt.xlabel(\"Total Area\")\n",
        "  plt.ylabel(\"Price\")\n",
        "  plt.title(region)\n",
        "  plt.legend()\n",
        "\n",
        "plot_scatter_chart(df6, \"Chembur\")"
      ]
    },
    {
      "cell_type": "code",
      "execution_count": 29,
      "metadata": {
        "colab": {
          "base_uri": "https://localhost:8080/"
        },
        "id": "ppPrA0ZZTV2l",
        "outputId": "68db88b0-1dd5-4227-fa42-1e03a503e0b2"
      },
      "outputs": [
        {
          "data": {
            "text/plain": [
              "(36801, 6)"
            ]
          },
          "execution_count": 29,
          "metadata": {},
          "output_type": "execute_result"
        }
      ],
      "source": [
        "def remove_bhk_outliers(df):\n",
        "  exclude_indices = np.array([])\n",
        "  for region, region_df in df.groupby('region'):\n",
        "    bhk_stats = {}\n",
        "    for bhk, bhk_df in region_df.groupby('bhk'):\n",
        "      bhk_stats[bhk] = {\n",
        "          'mean' : np.mean(bhk_df.price_per_sqft),\n",
        "          'sd' : np.std(bhk_df.price_per_sqft),\n",
        "          'count' : bhk_df.shape[0]\n",
        "      }\n",
        "    for bhk, bhk_df in region_df.groupby('bhk'):\n",
        "      stats = bhk_stats.get(bhk-1)\n",
        "      if stats and stats['count']>5:\n",
        "        exclude_indices = np.append(exclude_indices, bhk_df[bhk_df.price_per_sqft<(stats['mean'])].index.values)\n",
        "  return df.drop(exclude_indices, axis='index')\n",
        "\n",
        "df7 = remove_bhk_outliers(df6)\n",
        "df7.shape"
      ]
    },
    {
      "cell_type": "code",
      "execution_count": 30,
      "metadata": {
        "colab": {
          "base_uri": "https://localhost:8080/",
          "height": 739
        },
        "id": "_p6sTdveV4RT",
        "outputId": "089637bd-a453-43dd-c5ff-3664928bcf36"
      },
      "outputs": [
        {
          "data": {
            "image/png": "[encoded data removed]",
            "text/plain": [
              "<Figure size 1500x1000 with 1 Axes>"
            ]
          },
          "metadata": {},
          "output_type": "display_data"
        }
      ],
      "source": [
        "plot_scatter_chart(df7, \"Chembur\")"
      ]
    },
    {
      "cell_type": "code",
      "execution_count": 31,
      "metadata": {
        "colab": {
          "base_uri": "https://localhost:8080/",
          "height": 565
        },
        "id": "GEAB9QlaXywH",
        "outputId": "455deb0b-2554-454e-d1a1-d6ecbe90c031"
      },
      "outputs": [
        {
          "data": {
            "text/plain": [
              "Text(0, 0.5, 'Count')"
            ]
          },
          "execution_count": 31,
          "metadata": {},
          "output_type": "execute_result"
        },
        {
          "data": {
            "image/png": "[encoded data removed]",
            "text/plain": [
              "<Figure size 2000x1000 with 1 Axes>"
            ]
          },
          "metadata": {},
          "output_type": "display_data"
        }
      ],
      "source": [
        "matplotlib.rcParams['figure.figsize'] = (20,10)\n",
        "plt.hist(df7.price_per_sqft, rwidth=0.8)\n",
        "plt.xlabel(\"Price Per Square Feet\")\n",
        "plt.ylabel(\"Count\")"
      ]
    },
    {
      "cell_type": "code",
      "execution_count": 32,
      "metadata": {
        "colab": {
          "base_uri": "https://localhost:8080/",
          "height": 206
        },
        "id": "usnmeFr_Yd6u",
        "outputId": "c368b5f9-587b-4201-dd17-da2849e42d20"
      },
      "outputs": [
        {
          "data": {
            "text/html": [
              "<div>\n",
              "<style scoped>\n",
              "    .dataframe tbody tr th:only-of-type {\n",
              "        vertical-align: middle;\n",
              "    }\n",
              "\n",
              "    .dataframe tbody tr th {\n",
              "        vertical-align: top;\n",
              "    }\n",
              "\n",
              "    .dataframe thead th {\n",
              "        text-align: right;\n",
              "    }\n",
              "</style>\n",
              "<table border=\"1\" class=\"dataframe\">\n",
              "  <thead>\n",
              "    <tr style=\"text-align: right;\">\n",
              "      <th></th>\n",
              "      <th>bhk</th>\n",
              "      <th>type</th>\n",
              "      <th>area</th>\n",
              "      <th>price</th>\n",
              "      <th>region</th>\n",
              "    </tr>\n",
              "  </thead>\n",
              "  <tbody>\n",
              "    <tr>\n",
              "      <th>0</th>\n",
              "      <td>2</td>\n",
              "      <td>Apartment</td>\n",
              "      <td>650</td>\n",
              "      <td>262.0</td>\n",
              "      <td>Agripada</td>\n",
              "    </tr>\n",
              "    <tr>\n",
              "      <th>1</th>\n",
              "      <td>1</td>\n",
              "      <td>Apartment</td>\n",
              "      <td>803</td>\n",
              "      <td>225.0</td>\n",
              "      <td>Agripada</td>\n",
              "    </tr>\n",
              "    <tr>\n",
              "      <th>2</th>\n",
              "      <td>1</td>\n",
              "      <td>Apartment</td>\n",
              "      <td>684</td>\n",
              "      <td>170.0</td>\n",
              "      <td>Agripada</td>\n",
              "    </tr>\n",
              "    <tr>\n",
              "      <th>3</th>\n",
              "      <td>1</td>\n",
              "      <td>Apartment</td>\n",
              "      <td>545</td>\n",
              "      <td>160.0</td>\n",
              "      <td>Agripada</td>\n",
              "    </tr>\n",
              "    <tr>\n",
              "      <th>10</th>\n",
              "      <td>4</td>\n",
              "      <td>Apartment</td>\n",
              "      <td>3454</td>\n",
              "      <td>1250.0</td>\n",
              "      <td>Agripada</td>\n",
              "    </tr>\n",
              "  </tbody>\n",
              "</table>\n",
              "</div>"
            ],
            "text/plain": [
              "    bhk       type  area   price    region\n",
              "0     2  Apartment   650   262.0  Agripada\n",
              "1     1  Apartment   803   225.0  Agripada\n",
              "2     1  Apartment   684   170.0  Agripada\n",
              "3     1  Apartment   545   160.0  Agripada\n",
              "10    4  Apartment  3454  1250.0  Agripada"
            ]
          },
          "execution_count": 32,
          "metadata": {},
          "output_type": "execute_result"
        }
      ],
      "source": [
        "df8 = df7.drop(['price_per_sqft'],axis='columns')\n",
        "df8.head()"
      ]
    },
    {
      "cell_type": "code",
      "execution_count": 33,
      "metadata": {
        "colab": {
          "base_uri": "https://localhost:8080/",
          "height": 290
        },
        "id": "0eL2_Y4dgPcf",
        "outputId": "65c1a0af-a769-4e07-8e04-2006504e5e49"
      },
      "outputs": [
        {
          "data": {
            "text/html": [
              "<div>\n",
              "<style scoped>\n",
              "    .dataframe tbody tr th:only-of-type {\n",
              "        vertical-align: middle;\n",
              "    }\n",
              "\n",
              "    .dataframe tbody tr th {\n",
              "        vertical-align: top;\n",
              "    }\n",
              "\n",
              "    .dataframe thead th {\n",
              "        text-align: right;\n",
              "    }\n",
              "</style>\n",
              "<table border=\"1\" class=\"dataframe\">\n",
              "  <thead>\n",
              "    <tr style=\"text-align: right;\">\n",
              "      <th></th>\n",
              "      <th>Agripada</th>\n",
              "      <th>Airoli</th>\n",
              "      <th>Ambarnath</th>\n",
              "      <th>Ambernath East</th>\n",
              "      <th>Ambernath West</th>\n",
              "      <th>Andheri East</th>\n",
              "      <th>Andheri West</th>\n",
              "      <th>Anjurdive</th>\n",
              "      <th>Badlapur East</th>\n",
              "      <th>Badlapur West</th>\n",
              "      <th>...</th>\n",
              "      <th>Vasai</th>\n",
              "      <th>Vashi</th>\n",
              "      <th>Vikhroli</th>\n",
              "      <th>Ville Parle East</th>\n",
              "      <th>Ville Parle West</th>\n",
              "      <th>Virar</th>\n",
              "      <th>Virar West</th>\n",
              "      <th>Wadala</th>\n",
              "      <th>Worli</th>\n",
              "      <th>other</th>\n",
              "    </tr>\n",
              "  </thead>\n",
              "  <tbody>\n",
              "    <tr>\n",
              "      <th>0</th>\n",
              "      <td>True</td>\n",
              "      <td>False</td>\n",
              "      <td>False</td>\n",
              "      <td>False</td>\n",
              "      <td>False</td>\n",
              "      <td>False</td>\n",
              "      <td>False</td>\n",
              "      <td>False</td>\n",
              "      <td>False</td>\n",
              "      <td>False</td>\n",
              "      <td>...</td>\n",
              "      <td>False</td>\n",
              "      <td>False</td>\n",
              "      <td>False</td>\n",
              "      <td>False</td>\n",
              "      <td>False</td>\n",
              "      <td>False</td>\n",
              "      <td>False</td>\n",
              "      <td>False</td>\n",
              "      <td>False</td>\n",
              "      <td>False</td>\n",
              "    </tr>\n",
              "    <tr>\n",
              "      <th>1</th>\n",
              "      <td>True</td>\n",
              "      <td>False</td>\n",
              "      <td>False</td>\n",
              "      <td>False</td>\n",
              "      <td>False</td>\n",
              "      <td>False</td>\n",
              "      <td>False</td>\n",
              "      <td>False</td>\n",
              "      <td>False</td>\n",
              "      <td>False</td>\n",
              "      <td>...</td>\n",
              "      <td>False</td>\n",
              "      <td>False</td>\n",
              "      <td>False</td>\n",
              "      <td>False</td>\n",
              "      <td>False</td>\n",
              "      <td>False</td>\n",
              "      <td>False</td>\n",
              "      <td>False</td>\n",
              "      <td>False</td>\n",
              "      <td>False</td>\n",
              "    </tr>\n",
              "    <tr>\n",
              "      <th>2</th>\n",
              "      <td>True</td>\n",
              "      <td>False</td>\n",
              "      <td>False</td>\n",
              "      <td>False</td>\n",
              "      <td>False</td>\n",
              "      <td>False</td>\n",
              "      <td>False</td>\n",
              "      <td>False</td>\n",
              "      <td>False</td>\n",
              "      <td>False</td>\n",
              "      <td>...</td>\n",
              "      <td>False</td>\n",
              "      <td>False</td>\n",
              "      <td>False</td>\n",
              "      <td>False</td>\n",
              "      <td>False</td>\n",
              "      <td>False</td>\n",
              "      <td>False</td>\n",
              "      <td>False</td>\n",
              "      <td>False</td>\n",
              "      <td>False</td>\n",
              "    </tr>\n",
              "    <tr>\n",
              "      <th>3</th>\n",
              "      <td>True</td>\n",
              "      <td>False</td>\n",
              "      <td>False</td>\n",
              "      <td>False</td>\n",
              "      <td>False</td>\n",
              "      <td>False</td>\n",
              "      <td>False</td>\n",
              "      <td>False</td>\n",
              "      <td>False</td>\n",
              "      <td>False</td>\n",
              "      <td>...</td>\n",
              "      <td>False</td>\n",
              "      <td>False</td>\n",
              "      <td>False</td>\n",
              "      <td>False</td>\n",
              "      <td>False</td>\n",
              "      <td>False</td>\n",
              "      <td>False</td>\n",
              "      <td>False</td>\n",
              "      <td>False</td>\n",
              "      <td>False</td>\n",
              "    </tr>\n",
              "    <tr>\n",
              "      <th>10</th>\n",
              "      <td>True</td>\n",
              "      <td>False</td>\n",
              "      <td>False</td>\n",
              "      <td>False</td>\n",
              "      <td>False</td>\n",
              "      <td>False</td>\n",
              "      <td>False</td>\n",
              "      <td>False</td>\n",
              "      <td>False</td>\n",
              "      <td>False</td>\n",
              "      <td>...</td>\n",
              "      <td>False</td>\n",
              "      <td>False</td>\n",
              "      <td>False</td>\n",
              "      <td>False</td>\n",
              "      <td>False</td>\n",
              "      <td>False</td>\n",
              "      <td>False</td>\n",
              "      <td>False</td>\n",
              "      <td>False</td>\n",
              "      <td>False</td>\n",
              "    </tr>\n",
              "  </tbody>\n",
              "</table>\n",
              "<p>5 rows × 115 columns</p>\n",
              "</div>"
            ],
            "text/plain": [
              "    Agripada  Airoli  Ambarnath  Ambernath East  Ambernath West  Andheri East  \\\n",
              "0       True   False      False           False           False         False   \n",
              "1       True   False      False           False           False         False   \n",
              "2       True   False      False           False           False         False   \n",
              "3       True   False      False           False           False         False   \n",
              "10      True   False      False           False           False         False   \n",
              "\n",
              "    Andheri West  Anjurdive  Badlapur East  Badlapur West  ...  Vasai  Vashi  \\\n",
              "0          False      False          False          False  ...  False  False   \n",
              "1          False      False          False          False  ...  False  False   \n",
              "2          False      False          False          False  ...  False  False   \n",
              "3          False      False          False          False  ...  False  False   \n",
              "10         False      False          False          False  ...  False  False   \n",
              "\n",
              "    Vikhroli  Ville Parle East  Ville Parle West  Virar  Virar West  Wadala  \\\n",
              "0      False             False             False  False       False   False   \n",
              "1      False             False             False  False       False   False   \n",
              "2      False             False             False  False       False   False   \n",
              "3      False             False             False  False       False   False   \n",
              "10     False             False             False  False       False   False   \n",
              "\n",
              "    Worli  other  \n",
              "0   False  False  \n",
              "1   False  False  \n",
              "2   False  False  \n",
              "3   False  False  \n",
              "10  False  False  \n",
              "\n",
              "[5 rows x 115 columns]"
            ]
          },
          "execution_count": 33,
          "metadata": {},
          "output_type": "execute_result"
        }
      ],
      "source": [
        "dummies = pd.get_dummies(df8.region)\n",
        "dummies.head()"
      ]
    },
    {
      "cell_type": "code",
      "execution_count": 34,
      "metadata": {
        "colab": {
          "base_uri": "https://localhost:8080/",
          "height": 290
        },
        "id": "GzCQA06IiFRE",
        "outputId": "47093f76-e93a-4188-f77c-4544a4ad6b5f"
      },
      "outputs": [
        {
          "data": {
            "text/html": [
              "<div>\n",
              "<style scoped>\n",
              "    .dataframe tbody tr th:only-of-type {\n",
              "        vertical-align: middle;\n",
              "    }\n",
              "\n",
              "    .dataframe tbody tr th {\n",
              "        vertical-align: top;\n",
              "    }\n",
              "\n",
              "    .dataframe thead th {\n",
              "        text-align: right;\n",
              "    }\n",
              "</style>\n",
              "<table border=\"1\" class=\"dataframe\">\n",
              "  <thead>\n",
              "    <tr style=\"text-align: right;\">\n",
              "      <th></th>\n",
              "      <th>bhk</th>\n",
              "      <th>type</th>\n",
              "      <th>area</th>\n",
              "      <th>price</th>\n",
              "      <th>region</th>\n",
              "      <th>Agripada</th>\n",
              "      <th>Airoli</th>\n",
              "      <th>Ambarnath</th>\n",
              "      <th>Ambernath East</th>\n",
              "      <th>Ambernath West</th>\n",
              "      <th>...</th>\n",
              "      <th>Vangani</th>\n",
              "      <th>Vasai</th>\n",
              "      <th>Vashi</th>\n",
              "      <th>Vikhroli</th>\n",
              "      <th>Ville Parle East</th>\n",
              "      <th>Ville Parle West</th>\n",
              "      <th>Virar</th>\n",
              "      <th>Virar West</th>\n",
              "      <th>Wadala</th>\n",
              "      <th>Worli</th>\n",
              "    </tr>\n",
              "  </thead>\n",
              "  <tbody>\n",
              "    <tr>\n",
              "      <th>0</th>\n",
              "      <td>2</td>\n",
              "      <td>Apartment</td>\n",
              "      <td>650</td>\n",
              "      <td>262.0</td>\n",
              "      <td>Agripada</td>\n",
              "      <td>True</td>\n",
              "      <td>False</td>\n",
              "      <td>False</td>\n",
              "      <td>False</td>\n",
              "      <td>False</td>\n",
              "      <td>...</td>\n",
              "      <td>False</td>\n",
              "      <td>False</td>\n",
              "      <td>False</td>\n",
              "      <td>False</td>\n",
              "      <td>False</td>\n",
              "      <td>False</td>\n",
              "      <td>False</td>\n",
              "      <td>False</td>\n",
              "      <td>False</td>\n",
              "      <td>False</td>\n",
              "    </tr>\n",
              "    <tr>\n",
              "      <th>1</th>\n",
              "      <td>1</td>\n",
              "      <td>Apartment</td>\n",
              "      <td>803</td>\n",
              "      <td>225.0</td>\n",
              "      <td>Agripada</td>\n",
              "      <td>True</td>\n",
              "      <td>False</td>\n",
              "      <td>False</td>\n",
              "      <td>False</td>\n",
              "      <td>False</td>\n",
              "      <td>...</td>\n",
              "      <td>False</td>\n",
              "      <td>False</td>\n",
              "      <td>False</td>\n",
              "      <td>False</td>\n",
              "      <td>False</td>\n",
              "      <td>False</td>\n",
              "      <td>False</td>\n",
              "      <td>False</td>\n",
              "      <td>False</td>\n",
              "      <td>False</td>\n",
              "    </tr>\n",
              "    <tr>\n",
              "      <th>2</th>\n",
              "      <td>1</td>\n",
              "      <td>Apartment</td>\n",
              "      <td>684</td>\n",
              "      <td>170.0</td>\n",
              "      <td>Agripada</td>\n",
              "      <td>True</td>\n",
              "      <td>False</td>\n",
              "      <td>False</td>\n",
              "      <td>False</td>\n",
              "      <td>False</td>\n",
              "      <td>...</td>\n",
              "      <td>False</td>\n",
              "      <td>False</td>\n",
              "      <td>False</td>\n",
              "      <td>False</td>\n",
              "      <td>False</td>\n",
              "      <td>False</td>\n",
              "      <td>False</td>\n",
              "      <td>False</td>\n",
              "      <td>False</td>\n",
              "      <td>False</td>\n",
              "    </tr>\n",
              "    <tr>\n",
              "      <th>3</th>\n",
              "      <td>1</td>\n",
              "      <td>Apartment</td>\n",
              "      <td>545</td>\n",
              "      <td>160.0</td>\n",
              "      <td>Agripada</td>\n",
              "      <td>True</td>\n",
              "      <td>False</td>\n",
              "      <td>False</td>\n",
              "      <td>False</td>\n",
              "      <td>False</td>\n",
              "      <td>...</td>\n",
              "      <td>False</td>\n",
              "      <td>False</td>\n",
              "      <td>False</td>\n",
              "      <td>False</td>\n",
              "      <td>False</td>\n",
              "      <td>False</td>\n",
              "      <td>False</td>\n",
              "      <td>False</td>\n",
              "      <td>False</td>\n",
              "      <td>False</td>\n",
              "    </tr>\n",
              "    <tr>\n",
              "      <th>10</th>\n",
              "      <td>4</td>\n",
              "      <td>Apartment</td>\n",
              "      <td>3454</td>\n",
              "      <td>1250.0</td>\n",
              "      <td>Agripada</td>\n",
              "      <td>True</td>\n",
              "      <td>False</td>\n",
              "      <td>False</td>\n",
              "      <td>False</td>\n",
              "      <td>False</td>\n",
              "      <td>...</td>\n",
              "      <td>False</td>\n",
              "      <td>False</td>\n",
              "      <td>False</td>\n",
              "      <td>False</td>\n",
              "      <td>False</td>\n",
              "      <td>False</td>\n",
              "      <td>False</td>\n",
              "      <td>False</td>\n",
              "      <td>False</td>\n",
              "      <td>False</td>\n",
              "    </tr>\n",
              "  </tbody>\n",
              "</table>\n",
              "<p>5 rows × 119 columns</p>\n",
              "</div>"
            ],
            "text/plain": [
              "    bhk       type  area   price    region  Agripada  Airoli  Ambarnath  \\\n",
              "0     2  Apartment   650   262.0  Agripada      True   False      False   \n",
              "1     1  Apartment   803   225.0  Agripada      True   False      False   \n",
              "2     1  Apartment   684   170.0  Agripada      True   False      False   \n",
              "3     1  Apartment   545   160.0  Agripada      True   False      False   \n",
              "10    4  Apartment  3454  1250.0  Agripada      True   False      False   \n",
              "\n",
              "    Ambernath East  Ambernath West  ...  Vangani  Vasai  Vashi  Vikhroli  \\\n",
              "0            False           False  ...    False  False  False     False   \n",
              "1            False           False  ...    False  False  False     False   \n",
              "2            False           False  ...    False  False  False     False   \n",
              "3            False           False  ...    False  False  False     False   \n",
              "10           False           False  ...    False  False  False     False   \n",
              "\n",
              "    Ville Parle East  Ville Parle West  Virar  Virar West  Wadala  Worli  \n",
              "0              False             False  False       False   False  False  \n",
              "1              False             False  False       False   False  False  \n",
              "2              False             False  False       False   False  False  \n",
              "3              False             False  False       False   False  False  \n",
              "10             False             False  False       False   False  False  \n",
              "\n",
              "[5 rows x 119 columns]"
            ]
          },
          "execution_count": 34,
          "metadata": {},
          "output_type": "execute_result"
        }
      ],
      "source": [
        "df9 = pd.concat([df8,dummies.drop('other',axis='columns')], axis='columns')\n",
        "df9.head()"
      ]
    },
    {
      "cell_type": "code",
      "execution_count": 35,
      "metadata": {
        "colab": {
          "base_uri": "https://localhost:8080/",
          "height": 290
        },
        "id": "_JgUpVXAi7hq",
        "outputId": "d0009269-6e0d-411a-b8ba-e450f1ceba05"
      },
      "outputs": [
        {
          "data": {
            "text/html": [
              "<div>\n",
              "<style scoped>\n",
              "    .dataframe tbody tr th:only-of-type {\n",
              "        vertical-align: middle;\n",
              "    }\n",
              "\n",
              "    .dataframe tbody tr th {\n",
              "        vertical-align: top;\n",
              "    }\n",
              "\n",
              "    .dataframe thead th {\n",
              "        text-align: right;\n",
              "    }\n",
              "</style>\n",
              "<table border=\"1\" class=\"dataframe\">\n",
              "  <thead>\n",
              "    <tr style=\"text-align: right;\">\n",
              "      <th></th>\n",
              "      <th>bhk</th>\n",
              "      <th>type</th>\n",
              "      <th>area</th>\n",
              "      <th>price</th>\n",
              "      <th>Agripada</th>\n",
              "      <th>Airoli</th>\n",
              "      <th>Ambarnath</th>\n",
              "      <th>Ambernath East</th>\n",
              "      <th>Ambernath West</th>\n",
              "      <th>Andheri East</th>\n",
              "      <th>...</th>\n",
              "      <th>Vangani</th>\n",
              "      <th>Vasai</th>\n",
              "      <th>Vashi</th>\n",
              "      <th>Vikhroli</th>\n",
              "      <th>Ville Parle East</th>\n",
              "      <th>Ville Parle West</th>\n",
              "      <th>Virar</th>\n",
              "      <th>Virar West</th>\n",
              "      <th>Wadala</th>\n",
              "      <th>Worli</th>\n",
              "    </tr>\n",
              "  </thead>\n",
              "  <tbody>\n",
              "    <tr>\n",
              "      <th>0</th>\n",
              "      <td>2</td>\n",
              "      <td>Apartment</td>\n",
              "      <td>650</td>\n",
              "      <td>262.0</td>\n",
              "      <td>True</td>\n",
              "      <td>False</td>\n",
              "      <td>False</td>\n",
              "      <td>False</td>\n",
              "      <td>False</td>\n",
              "      <td>False</td>\n",
              "      <td>...</td>\n",
              "      <td>False</td>\n",
              "      <td>False</td>\n",
              "      <td>False</td>\n",
              "      <td>False</td>\n",
              "      <td>False</td>\n",
              "      <td>False</td>\n",
              "      <td>False</td>\n",
              "      <td>False</td>\n",
              "      <td>False</td>\n",
              "      <td>False</td>\n",
              "    </tr>\n",
              "    <tr>\n",
              "      <th>1</th>\n",
              "      <td>1</td>\n",
              "      <td>Apartment</td>\n",
              "      <td>803</td>\n",
              "      <td>225.0</td>\n",
              "      <td>True</td>\n",
              "      <td>False</td>\n",
              "      <td>False</td>\n",
              "      <td>False</td>\n",
              "      <td>False</td>\n",
              "      <td>False</td>\n",
              "      <td>...</td>\n",
              "      <td>False</td>\n",
              "      <td>False</td>\n",
              "      <td>False</td>\n",
              "      <td>False</td>\n",
              "      <td>False</td>\n",
              "      <td>False</td>\n",
              "      <td>False</td>\n",
              "      <td>False</td>\n",
              "      <td>False</td>\n",
              "      <td>False</td>\n",
              "    </tr>\n",
              "    <tr>\n",
              "      <th>2</th>\n",
              "      <td>1</td>\n",
              "      <td>Apartment</td>\n",
              "      <td>684</td>\n",
              "      <td>170.0</td>\n",
              "      <td>True</td>\n",
              "      <td>False</td>\n",
              "      <td>False</td>\n",
              "      <td>False</td>\n",
              "      <td>False</td>\n",
              "      <td>False</td>\n",
              "      <td>...</td>\n",
              "      <td>False</td>\n",
              "      <td>False</td>\n",
              "      <td>False</td>\n",
              "      <td>False</td>\n",
              "      <td>False</td>\n",
              "      <td>False</td>\n",
              "      <td>False</td>\n",
              "      <td>False</td>\n",
              "      <td>False</td>\n",
              "      <td>False</td>\n",
              "    </tr>\n",
              "    <tr>\n",
              "      <th>3</th>\n",
              "      <td>1</td>\n",
              "      <td>Apartment</td>\n",
              "      <td>545</td>\n",
              "      <td>160.0</td>\n",
              "      <td>True</td>\n",
              "      <td>False</td>\n",
              "      <td>False</td>\n",
              "      <td>False</td>\n",
              "      <td>False</td>\n",
              "      <td>False</td>\n",
              "      <td>...</td>\n",
              "      <td>False</td>\n",
              "      <td>False</td>\n",
              "      <td>False</td>\n",
              "      <td>False</td>\n",
              "      <td>False</td>\n",
              "      <td>False</td>\n",
              "      <td>False</td>\n",
              "      <td>False</td>\n",
              "      <td>False</td>\n",
              "      <td>False</td>\n",
              "    </tr>\n",
              "    <tr>\n",
              "      <th>10</th>\n",
              "      <td>4</td>\n",
              "      <td>Apartment</td>\n",
              "      <td>3454</td>\n",
              "      <td>1250.0</td>\n",
              "      <td>True</td>\n",
              "      <td>False</td>\n",
              "      <td>False</td>\n",
              "      <td>False</td>\n",
              "      <td>False</td>\n",
              "      <td>False</td>\n",
              "      <td>...</td>\n",
              "      <td>False</td>\n",
              "      <td>False</td>\n",
              "      <td>False</td>\n",
              "      <td>False</td>\n",
              "      <td>False</td>\n",
              "      <td>False</td>\n",
              "      <td>False</td>\n",
              "      <td>False</td>\n",
              "      <td>False</td>\n",
              "      <td>False</td>\n",
              "    </tr>\n",
              "  </tbody>\n",
              "</table>\n",
              "<p>5 rows × 118 columns</p>\n",
              "</div>"
            ],
            "text/plain": [
              "    bhk       type  area   price  Agripada  Airoli  Ambarnath  Ambernath East  \\\n",
              "0     2  Apartment   650   262.0      True   False      False           False   \n",
              "1     1  Apartment   803   225.0      True   False      False           False   \n",
              "2     1  Apartment   684   170.0      True   False      False           False   \n",
              "3     1  Apartment   545   160.0      True   False      False           False   \n",
              "10    4  Apartment  3454  1250.0      True   False      False           False   \n",
              "\n",
              "    Ambernath West  Andheri East  ...  Vangani  Vasai  Vashi  Vikhroli  \\\n",
              "0            False         False  ...    False  False  False     False   \n",
              "1            False         False  ...    False  False  False     False   \n",
              "2            False         False  ...    False  False  False     False   \n",
              "3            False         False  ...    False  False  False     False   \n",
              "10           False         False  ...    False  False  False     False   \n",
              "\n",
              "    Ville Parle East  Ville Parle West  Virar  Virar West  Wadala  Worli  \n",
              "0              False             False  False       False   False  False  \n",
              "1              False             False  False       False   False  False  \n",
              "2              False             False  False       False   False  False  \n",
              "3              False             False  False       False   False  False  \n",
              "10             False             False  False       False   False  False  \n",
              "\n",
              "[5 rows x 118 columns]"
            ]
          },
          "execution_count": 35,
          "metadata": {},
          "output_type": "execute_result"
        }
      ],
      "source": [
        "df10 = df9.drop('region',axis='columns')\n",
        "df10.head()"
      ]
    },
    {
      "cell_type": "code",
      "execution_count": 36,
      "metadata": {
        "colab": {
          "base_uri": "https://localhost:8080/",
          "height": 196
        },
        "id": "eADZcRNCjaRq",
        "outputId": "1074f02a-32ee-4740-d4b7-68702a4328ac"
      },
      "outputs": [
        {
          "data": {
            "text/html": [
              "<div>\n",
              "<style scoped>\n",
              "    .dataframe tbody tr th:only-of-type {\n",
              "        vertical-align: middle;\n",
              "    }\n",
              "\n",
              "    .dataframe tbody tr th {\n",
              "        vertical-align: top;\n",
              "    }\n",
              "\n",
              "    .dataframe thead th {\n",
              "        text-align: right;\n",
              "    }\n",
              "</style>\n",
              "<table border=\"1\" class=\"dataframe\">\n",
              "  <thead>\n",
              "    <tr style=\"text-align: right;\">\n",
              "      <th></th>\n",
              "      <th>bhk</th>\n",
              "      <th>area</th>\n",
              "      <th>Agripada</th>\n",
              "      <th>Airoli</th>\n",
              "      <th>Ambarnath</th>\n",
              "      <th>Ambernath East</th>\n",
              "      <th>Ambernath West</th>\n",
              "      <th>Andheri East</th>\n",
              "      <th>Andheri West</th>\n",
              "      <th>Anjurdive</th>\n",
              "      <th>...</th>\n",
              "      <th>Vangani</th>\n",
              "      <th>Vasai</th>\n",
              "      <th>Vashi</th>\n",
              "      <th>Vikhroli</th>\n",
              "      <th>Ville Parle East</th>\n",
              "      <th>Ville Parle West</th>\n",
              "      <th>Virar</th>\n",
              "      <th>Virar West</th>\n",
              "      <th>Wadala</th>\n",
              "      <th>Worli</th>\n",
              "    </tr>\n",
              "  </thead>\n",
              "  <tbody>\n",
              "    <tr>\n",
              "      <th>0</th>\n",
              "      <td>2</td>\n",
              "      <td>650</td>\n",
              "      <td>True</td>\n",
              "      <td>False</td>\n",
              "      <td>False</td>\n",
              "      <td>False</td>\n",
              "      <td>False</td>\n",
              "      <td>False</td>\n",
              "      <td>False</td>\n",
              "      <td>False</td>\n",
              "      <td>...</td>\n",
              "      <td>False</td>\n",
              "      <td>False</td>\n",
              "      <td>False</td>\n",
              "      <td>False</td>\n",
              "      <td>False</td>\n",
              "      <td>False</td>\n",
              "      <td>False</td>\n",
              "      <td>False</td>\n",
              "      <td>False</td>\n",
              "      <td>False</td>\n",
              "    </tr>\n",
              "    <tr>\n",
              "      <th>1</th>\n",
              "      <td>1</td>\n",
              "      <td>803</td>\n",
              "      <td>True</td>\n",
              "      <td>False</td>\n",
              "      <td>False</td>\n",
              "      <td>False</td>\n",
              "      <td>False</td>\n",
              "      <td>False</td>\n",
              "      <td>False</td>\n",
              "      <td>False</td>\n",
              "      <td>...</td>\n",
              "      <td>False</td>\n",
              "      <td>False</td>\n",
              "      <td>False</td>\n",
              "      <td>False</td>\n",
              "      <td>False</td>\n",
              "      <td>False</td>\n",
              "      <td>False</td>\n",
              "      <td>False</td>\n",
              "      <td>False</td>\n",
              "      <td>False</td>\n",
              "    </tr>\n",
              "  </tbody>\n",
              "</table>\n",
              "<p>2 rows × 116 columns</p>\n",
              "</div>"
            ],
            "text/plain": [
              "   bhk  area  Agripada  Airoli  Ambarnath  Ambernath East  Ambernath West  \\\n",
              "0    2   650      True   False      False           False           False   \n",
              "1    1   803      True   False      False           False           False   \n",
              "\n",
              "   Andheri East  Andheri West  Anjurdive  ...  Vangani  Vasai  Vashi  \\\n",
              "0         False         False      False  ...    False  False  False   \n",
              "1         False         False      False  ...    False  False  False   \n",
              "\n",
              "   Vikhroli  Ville Parle East  Ville Parle West  Virar  Virar West  Wadala  \\\n",
              "0     False             False             False  False       False   False   \n",
              "1     False             False             False  False       False   False   \n",
              "\n",
              "   Worli  \n",
              "0  False  \n",
              "1  False  \n",
              "\n",
              "[2 rows x 116 columns]"
            ]
          },
          "execution_count": 36,
          "metadata": {},
          "output_type": "execute_result"
        }
      ],
      "source": [
        "x = df10.drop(['price','type'],axis='columns')\n",
        "x.head(2)"
      ]
    },
    {
      "cell_type": "code",
      "execution_count": 37,
      "metadata": {
        "colab": {
          "base_uri": "https://localhost:8080/",
          "height": 147
        },
        "id": "7ILG1L9zjtO-",
        "outputId": "6da09428-2e94-41fc-ab1c-6436f76f1a4c"
      },
      "outputs": [
        {
          "data": {
            "text/plain": [
              "0    262.0\n",
              "1    225.0\n",
              "Name: price, dtype: float64"
            ]
          },
          "execution_count": 37,
          "metadata": {},
          "output_type": "execute_result"
        }
      ],
      "source": [
        "y = df10.price\n",
        "y.head(2)"
      ]
    },
    {
      "cell_type": "code",
      "execution_count": 38,
      "metadata": {
        "id": "eJW2aaiwjzuO"
      },
      "outputs": [],
      "source": [
        "from sklearn.model_selection import train_test_split\n",
        "x_train, x_test, y_train, y_test = train_test_split(x,y,test_size=0.2,random_state=10)"
      ]
    },
    {
      "cell_type": "code",
      "execution_count": 39,
      "metadata": {
        "colab": {
          "base_uri": "https://localhost:8080/"
        },
        "id": "MTLAaH06lXYK",
        "outputId": "baca3ef7-9a55-428d-fcca-26f90f660e80"
      },
      "outputs": [
        {
          "data": {
            "text/plain": [
              "0.8916997860484497"
            ]
          },
          "execution_count": 39,
          "metadata": {},
          "output_type": "execute_result"
        }
      ],
      "source": [
        "from sklearn.linear_model import LinearRegression\n",
        "lr_clf = LinearRegression()\n",
        "lr_clf.fit(x_train,y_train)\n",
        "lr_clf.score(x_test,y_test)"
      ]
    },
    {
      "cell_type": "code",
      "execution_count": 40,
      "metadata": {
        "colab": {
          "base_uri": "https://localhost:8080/"
        },
        "id": "jcUKavpDl2QD",
        "outputId": "dab038e6-fe75-4228-e739-b97f92225681"
      },
      "outputs": [
        {
          "data": {
            "text/plain": [
              "array([0.87902574, 0.87855999, 0.88291345, 0.88372214, 0.86489675])"
            ]
          },
          "execution_count": 40,
          "metadata": {},
          "output_type": "execute_result"
        }
      ],
      "source": [
        "from sklearn.model_selection import ShuffleSplit\n",
        "from sklearn.model_selection import cross_val_score\n",
        "\n",
        "cv = ShuffleSplit(n_splits=5, test_size=0.2, random_state=0)\n",
        "\n",
        "cross_val_score(LinearRegression(), x, y, cv=cv)"
      ]
    },
    {
      "cell_type": "code",
      "execution_count": 87,
      "metadata": {
        "colab": {
          "base_uri": "https://localhost:8080/",
          "height": 143
        },
        "id": "O8n5Or7smu0f",
        "outputId": "cd62c6bf-7017-41cf-d29b-cd7b801e9da7"
      },
      "outputs": [
        {
          "data": {
            "application/vnd.google.colaboratory.intrinsic+json": {
              "summary": "{\n  \"name\": \"find_best_model_using_gridsearchcv(x,y)\",\n  \"rows\": 3,\n  \"fields\": [\n    {\n      \"column\": \"model\",\n      \"properties\": {\n        \"dtype\": \"string\",\n        \"num_unique_values\": 3,\n        \"samples\": [\n          \"linear_regression\",\n          \"lasso\",\n          \"decision_tree\"\n        ],\n        \"semantic_type\": \"\",\n        \"description\": \"\"\n      }\n    },\n    {\n      \"column\": \"best_score\",\n      \"properties\": {\n        \"dtype\": \"number\",\n        \"std\": 0.11897154057736918,\n        \"min\": 0.7193400243245598,\n        \"max\": 0.9522857437757359,\n        \"num_unique_values\": 3,\n        \"samples\": [\n          0.8778236117763878,\n          0.7193400243245598,\n          0.9522857437757359\n        ],\n        \"semantic_type\": \"\",\n        \"description\": \"\"\n      }\n    },\n    {\n      \"column\": \"best_params\",\n      \"properties\": {\n        \"dtype\": \"object\",\n        \"semantic_type\": \"\",\n        \"description\": \"\"\n      }\n    }\n  ]\n}",
              "type": "dataframe"
            },
            "text/html": [
              "\n",
              "  <div id=\"df-f2f2246f-098a-425a-86c4-b93cd868123d\" class=\"colab-df-container\">\n",
              "    <div>\n",
              "<style scoped>\n",
              "    .dataframe tbody tr th:only-of-type {\n",
              "        vertical-align: middle;\n",
              "    }\n",
              "\n",
              "    .dataframe tbody tr th {\n",
              "        vertical-align: top;\n",
              "    }\n",
              "\n",
              "    .dataframe thead th {\n",
              "        text-align: right;\n",
              "    }\n",
              "</style>\n",
              "<table border=\"1\" class=\"dataframe\">\n",
              "  <thead>\n",
              "    <tr style=\"text-align: right;\">\n",
              "      <th></th>\n",
              "      <th>model</th>\n",
              "      <th>best_score</th>\n",
              "      <th>best_params</th>\n",
              "    </tr>\n",
              "  </thead>\n",
              "  <tbody>\n",
              "    <tr>\n",
              "      <th>0</th>\n",
              "      <td>linear_regression</td>\n",
              "      <td>0.877824</td>\n",
              "      <td>{'standardscaler__with_mean': True, 'standards...</td>\n",
              "    </tr>\n",
              "    <tr>\n",
              "      <th>1</th>\n",
              "      <td>lasso</td>\n",
              "      <td>0.719340</td>\n",
              "      <td>{'alpha': 1, 'selection': 'random'}</td>\n",
              "    </tr>\n",
              "    <tr>\n",
              "      <th>2</th>\n",
              "      <td>decision_tree</td>\n",
              "      <td>0.952286</td>\n",
              "      <td>{'criterion': 'friedman_mse', 'splitter': 'best'}</td>\n",
              "    </tr>\n",
              "  </tbody>\n",
              "</table>\n",
              "</div>\n",
              "    <div class=\"colab-df-buttons\">\n",
              "\n",
              "  <div class=\"colab-df-container\">\n",
              "    <button class=\"colab-df-convert\" onclick=\"convertToInteractive('df-f2f2246f-098a-425a-86c4-b93cd868123d')\"\n",
              "            title=\"Convert this dataframe to an interactive table.\"\n",
              "            style=\"display:none;\">\n",
              "\n",
              "  <svg xmlns=\"http://www.w3.org/2000/svg\" height=\"24px\" viewBox=\"0 -960 960 960\">\n",
              "    <path d=\"M120-120v-720h720v720H120Zm60-500h600v-160H180v160Zm220 220h160v-160H400v160Zm0 220h160v-160H400v160ZM180-400h160v-160H180v160Zm440 0h160v-160H620v160ZM180-180h160v-160H180v160Zm440 0h160v-160H620v160Z\"/>\n",
              "  </svg>\n",
              "    </button>\n",
              "\n",
              "  <style>\n",
              "    .colab-df-container {\n",
              "      display:flex;\n",
              "      gap: 12px;\n",
              "    }\n",
              "\n",
              "    .colab-df-convert {\n",
              "      background-color: #E8F0FE;\n",
              "      border: none;\n",
              "      border-radius: 50%;\n",
              "      cursor: pointer;\n",
              "      display: none;\n",
              "      fill: #1967D2;\n",
              "      height: 32px;\n",
              "      padding: 0 0 0 0;\n",
              "      width: 32px;\n",
              "    }\n",
              "\n",
              "    .colab-df-convert:hover {\n",
              "      background-color: #E2EBFA;\n",
              "      box-shadow: 0px 1px 2px rgba(60, 64, 67, 0.3), 0px 1px 3px 1px rgba(60, 64, 67, 0.15);\n",
              "      fill: #174EA6;\n",
              "    }\n",
              "\n",
              "    .colab-df-buttons div {\n",
              "      margin-bottom: 4px;\n",
              "    }\n",
              "\n",
              "    [theme=dark] .colab-df-convert {\n",
              "      background-color: #3B4455;\n",
              "      fill: #D2E3FC;\n",
              "    }\n",
              "\n",
              "    [theme=dark] .colab-df-convert:hover {\n",
              "      background-color: #434B5C;\n",
              "      box-shadow: 0px 1px 3px 1px rgba(0, 0, 0, 0.15);\n",
              "      filter: drop-shadow(0px 1px 2px rgba(0, 0, 0, 0.3));\n",
              "      fill: #FFFFFF;\n",
              "    }\n",
              "  </style>\n",
              "\n",
              "    <script>\n",
              "      const buttonEl =\n",
              "        document.querySelector('#df-f2f2246f-098a-425a-86c4-b93cd868123d button.colab-df-convert');\n",
              "      buttonEl.style.display =\n",
              "        google.colab.kernel.accessAllowed ? 'block' : 'none';\n",
              "\n",
              "      async function convertToInteractive(key) {\n",
              "        const element = document.querySelector('#df-f2f2246f-098a-425a-86c4-b93cd868123d');\n",
              "        const dataTable =\n",
              "          await google.colab.kernel.invokeFunction('convertToInteractive',\n",
              "                                                    [key], {});\n",
              "        if (!dataTable) return;\n",
              "\n",
              "        const docLinkHtml = 'Like what you see? Visit the ' +\n",
              "          '<a target=\"_blank\" href=https://colab.research.google.com/notebooks/data_table.ipynb>data table notebook</a>'\n",
              "          + ' to learn more about interactive tables.';\n",
              "        element.innerHTML = '';\n",
              "        dataTable['output_type'] = 'display_data';\n",
              "        await google.colab.output.renderOutput(dataTable, element);\n",
              "        const docLink = document.createElement('div');\n",
              "        docLink.innerHTML = docLinkHtml;\n",
              "        element.appendChild(docLink);\n",
              "      }\n",
              "    </script>\n",
              "  </div>\n",
              "\n",
              "\n",
              "<div id=\"df-0d942f80-205a-4e7c-9a68-8c4ec76e4462\">\n",
              "  <button class=\"colab-df-quickchart\" onclick=\"quickchart('df-0d942f80-205a-4e7c-9a68-8c4ec76e4462')\"\n",
              "            title=\"Suggest charts\"\n",
              "            style=\"display:none;\">\n",
              "\n",
              "<svg xmlns=\"http://www.w3.org/2000/svg\" height=\"24px\"viewBox=\"0 0 24 24\"\n",
              "     width=\"24px\">\n",
              "    <g>\n",
              "        <path d=\"M19 3H5c-1.1 0-2 .9-2 2v14c0 1.1.9 2 2 2h14c1.1 0 2-.9 2-2V5c0-1.1-.9-2-2-2zM9 17H7v-7h2v7zm4 0h-2V7h2v10zm4 0h-2v-4h2v4z\"/>\n",
              "    </g>\n",
              "</svg>\n",
              "  </button>\n",
              "\n",
              "<style>\n",
              "  .colab-df-quickchart {\n",
              "      --bg-color: #E8F0FE;\n",
              "      --fill-color: #1967D2;\n",
              "      --hover-bg-color: #E2EBFA;\n",
              "      --hover-fill-color: #174EA6;\n",
              "      --disabled-fill-color: #AAA;\n",
              "      --disabled-bg-color: #DDD;\n",
              "  }\n",
              "\n",
              "  [theme=dark] .colab-df-quickchart {\n",
              "      --bg-color: #3B4455;\n",
              "      --fill-color: #D2E3FC;\n",
              "      --hover-bg-color: #434B5C;\n",
              "      --hover-fill-color: #FFFFFF;\n",
              "      --disabled-bg-color: #3B4455;\n",
              "      --disabled-fill-color: #666;\n",
              "  }\n",
              "\n",
              "  .colab-df-quickchart {\n",
              "    background-color: var(--bg-color);\n",
              "    border: none;\n",
              "    border-radius: 50%;\n",
              "    cursor: pointer;\n",
              "    display: none;\n",
              "    fill: var(--fill-color);\n",
              "    height: 32px;\n",
              "    padding: 0;\n",
              "    width: 32px;\n",
              "  }\n",
              "\n",
              "  .colab-df-quickchart:hover {\n",
              "    background-color: var(--hover-bg-color);\n",
              "    box-shadow: 0 1px 2px rgba(60, 64, 67, 0.3), 0 1px 3px 1px rgba(60, 64, 67, 0.15);\n",
              "    fill: var(--button-hover-fill-color);\n",
              "  }\n",
              "\n",
              "  .colab-df-quickchart-complete:disabled,\n",
              "  .colab-df-quickchart-complete:disabled:hover {\n",
              "    background-color: var(--disabled-bg-color);\n",
              "    fill: var(--disabled-fill-color);\n",
              "    box-shadow: none;\n",
              "  }\n",
              "\n",
              "  .colab-df-spinner {\n",
              "    border: 2px solid var(--fill-color);\n",
              "    border-color: transparent;\n",
              "    border-bottom-color: var(--fill-color);\n",
              "    animation:\n",
              "      spin 1s steps(1) infinite;\n",
              "  }\n",
              "\n",
              "  @keyframes spin {\n",
              "    0% {\n",
              "      border-color: transparent;\n",
              "      border-bottom-color: var(--fill-color);\n",
              "      border-left-color: var(--fill-color);\n",
              "    }\n",
              "    20% {\n",
              "      border-color: transparent;\n",
              "      border-left-color: var(--fill-color);\n",
              "      border-top-color: var(--fill-color);\n",
              "    }\n",
              "    30% {\n",
              "      border-color: transparent;\n",
              "      border-left-color: var(--fill-color);\n",
              "      border-top-color: var(--fill-color);\n",
              "      border-right-color: var(--fill-color);\n",
              "    }\n",
              "    40% {\n",
              "      border-color: transparent;\n",
              "      border-right-color: var(--fill-color);\n",
              "      border-top-color: var(--fill-color);\n",
              "    }\n",
              "    60% {\n",
              "      border-color: transparent;\n",
              "      border-right-color: var(--fill-color);\n",
              "    }\n",
              "    80% {\n",
              "      border-color: transparent;\n",
              "      border-right-color: var(--fill-color);\n",
              "      border-bottom-color: var(--fill-color);\n",
              "    }\n",
              "    90% {\n",
              "      border-color: transparent;\n",
              "      border-bottom-color: var(--fill-color);\n",
              "    }\n",
              "  }\n",
              "</style>\n",
              "\n",
              "  <script>\n",
              "    async function quickchart(key) {\n",
              "      const quickchartButtonEl =\n",
              "        document.querySelector('#' + key + ' button');\n",
              "      quickchartButtonEl.disabled = true;  // To prevent multiple clicks.\n",
              "      quickchartButtonEl.classList.add('colab-df-spinner');\n",
              "      try {\n",
              "        const charts = await google.colab.kernel.invokeFunction(\n",
              "            'suggestCharts', [key], {});\n",
              "      } catch (error) {\n",
              "        console.error('Error during call to suggestCharts:', error);\n",
              "      }\n",
              "      quickchartButtonEl.classList.remove('colab-df-spinner');\n",
              "      quickchartButtonEl.classList.add('colab-df-quickchart-complete');\n",
              "    }\n",
              "    (() => {\n",
              "      let quickchartButtonEl =\n",
              "        document.querySelector('#df-0d942f80-205a-4e7c-9a68-8c4ec76e4462 button');\n",
              "      quickchartButtonEl.style.display =\n",
              "        google.colab.kernel.accessAllowed ? 'block' : 'none';\n",
              "    })();\n",
              "  </script>\n",
              "</div>\n",
              "\n",
              "    </div>\n",
              "  </div>\n"
            ],
            "text/plain": [
              "               model  best_score  \\\n",
              "0  linear_regression    0.877824   \n",
              "1              lasso    0.719340   \n",
              "2      decision_tree    0.952286   \n",
              "\n",
              "                                         best_params  \n",
              "0  {'standardscaler__with_mean': True, 'standards...  \n",
              "1                {'alpha': 1, 'selection': 'random'}  \n",
              "2  {'criterion': 'friedman_mse', 'splitter': 'best'}  "
            ]
          },
          "execution_count": 87,
          "metadata": {},
          "output_type": "execute_result"
        }
      ],
      "source": [
        "from sklearn.model_selection import GridSearchCV\n",
        "\n",
        "from sklearn.linear_model import Lasso\n",
        "from sklearn.tree import DecisionTreeRegressor\n",
        "from sklearn.preprocessing import StandardScaler\n",
        "from sklearn.pipeline import make_pipeline\n",
        "\n",
        "def find_best_model_using_gridsearchcv(x,y):\n",
        "  algos = {\n",
        "      'linear_regression' : {\n",
        "          'model' : make_pipeline(StandardScaler(), LinearRegression()),\n",
        "          'params' : {\n",
        "              'standardscaler__with_mean' : [True, False],\n",
        "              'standardscaler__with_std' : [True, False] \n",
        "          }\n",
        "      },\n",
        "      'lasso' : {\n",
        "          'model' : Lasso(),\n",
        "          'params' : {\n",
        "              'alpha' : [1, 2],\n",
        "              'selection' : ['random', 'cyclic']\n",
        "          }\n",
        "      },\n",
        "      'decision_tree' : {\n",
        "          'model' : DecisionTreeRegressor(),\n",
        "          'params' : {\n",
        "              'criterion' : ['friedman_mse'],\n",
        "              'splitter' : ['best', 'random']\n",
        "          }\n",
        "      }\n",
        "  }\n",
        "  scores = []\n",
        "  cv = ShuffleSplit(n_splits=5, test_size=0.2, random_state=0)\n",
        "  for algo_name, config in algos.items():\n",
        "    gs = GridSearchCV(config['model'],config['params'], cv=cv, return_train_score=False, error_score='raise')\n",
        "    gs.fit(x,y)\n",
        "    scores.append({\n",
        "        'model' : algo_name,\n",
        "        'best_score' : gs.best_score_,\n",
        "        'best_params' : gs.best_params_\n",
        "    })\n",
        "\n",
        "  return pd.DataFrame(scores, columns=['model','best_score','best_params'])\n",
        "\n",
        "find_best_model_using_gridsearchcv(x,y)"
      ]
    },
    {
      "cell_type": "code",
      "execution_count": 41,
      "metadata": {
        "colab": {
          "base_uri": "https://localhost:8080/"
        },
        "id": "oeDS-jA2Rs61",
        "outputId": "b3b493d7-54e6-4c48-cd55-aec717ebdc32"
      },
      "outputs": [
        {
          "data": {
            "text/plain": [
              "0.9529077947237274"
            ]
          },
          "execution_count": 41,
          "metadata": {},
          "output_type": "execute_result"
        }
      ],
      "source": [
        "from sklearn.tree import DecisionTreeRegressor\n",
        "lr_clf2 = DecisionTreeRegressor()\n",
        "lr_clf2.fit(x_train,y_train)\n",
        "lr_clf2.score(x_test,y_test)"
      ]
    },
    {
      "cell_type": "code",
      "execution_count": 43,
      "metadata": {},
      "outputs": [
        {
          "name": "stdout",
          "output_type": "stream",
          "text": [
            "Collecting tensorflow\n",
            "  Downloading tensorflow-2.18.0-cp311-cp311-macosx_12_0_arm64.whl.metadata (4.0 kB)\n",
            "Collecting absl-py>=1.0.0 (from tensorflow)\n",
            "  Downloading absl_py-2.1.0-py3-none-any.whl.metadata (2.3 kB)\n",
            "Collecting astunparse>=1.6.0 (from tensorflow)\n",
            "  Downloading astunparse-1.6.3-py2.py3-none-any.whl.metadata (4.4 kB)\n",
            "Collecting flatbuffers>=24.3.25 (from tensorflow)\n",
            "  Downloading flatbuffers-25.2.10-py2.py3-none-any.whl.metadata (875 bytes)\n",
            "Collecting gast!=0.5.0,!=0.5.1,!=0.5.2,>=0.2.1 (from tensorflow)\n",
            "  Downloading gast-0.6.0-py3-none-any.whl.metadata (1.3 kB)\n",
            "Collecting google-pasta>=0.1.1 (from tensorflow)\n",
            "  Downloading google_pasta-0.2.0-py3-none-any.whl.metadata (814 bytes)\n",
            "Collecting libclang>=13.0.0 (from tensorflow)\n",
            "  Downloading libclang-18.1.1-1-py2.py3-none-macosx_11_0_arm64.whl.metadata (5.2 kB)\n",
            "Collecting opt-einsum>=2.3.2 (from tensorflow)\n",
            "  Downloading opt_einsum-3.4.0-py3-none-any.whl.metadata (6.3 kB)\n",
            "Requirement already satisfied: packaging in /Users/aryanmalhotra/anaconda3/lib/python3.11/site-packages (from tensorflow) (24.1)\n",
            "Collecting protobuf!=4.21.0,!=4.21.1,!=4.21.2,!=4.21.3,!=4.21.4,!=4.21.5,<6.0.0dev,>=3.20.3 (from tensorflow)\n",
            "  Downloading protobuf-5.29.3-cp38-abi3-macosx_10_9_universal2.whl.metadata (592 bytes)\n",
            "Requirement already satisfied: requests<3,>=2.21.0 in /Users/aryanmalhotra/anaconda3/lib/python3.11/site-packages (from tensorflow) (2.32.3)\n",
            "Requirement already satisfied: setuptools in /Users/aryanmalhotra/anaconda3/lib/python3.11/site-packages (from tensorflow) (68.0.0)\n",
            "Requirement already satisfied: six>=1.12.0 in /Users/aryanmalhotra/anaconda3/lib/python3.11/site-packages (from tensorflow) (1.16.0)\n",
            "Collecting termcolor>=1.1.0 (from tensorflow)\n",
            "  Downloading termcolor-2.5.0-py3-none-any.whl.metadata (6.1 kB)\n",
            "Requirement already satisfied: typing-extensions>=3.6.6 in /Users/aryanmalhotra/anaconda3/lib/python3.11/site-packages (from tensorflow) (4.11.0)\n",
            "Collecting wrapt>=1.11.0 (from tensorflow)\n",
            "  Downloading wrapt-1.17.2-cp311-cp311-macosx_11_0_arm64.whl.metadata (6.4 kB)\n",
            "Collecting grpcio<2.0,>=1.24.3 (from tensorflow)\n",
            "  Downloading grpcio-1.70.0-cp311-cp311-macosx_10_14_universal2.whl.metadata (3.9 kB)\n",
            "Collecting tensorboard<2.19,>=2.18 (from tensorflow)\n",
            "  Downloading tensorboard-2.18.0-py3-none-any.whl.metadata (1.6 kB)\n",
            "Collecting keras>=3.5.0 (from tensorflow)\n",
            "  Downloading keras-3.9.0-py3-none-any.whl.metadata (6.1 kB)\n",
            "Requirement already satisfied: numpy<2.1.0,>=1.26.0 in /Users/aryanmalhotra/anaconda3/lib/python3.11/site-packages (from tensorflow) (2.0.0)\n",
            "Collecting h5py>=3.11.0 (from tensorflow)\n",
            "  Downloading h5py-3.13.0-cp311-cp311-macosx_11_0_arm64.whl.metadata (2.5 kB)\n",
            "Collecting ml-dtypes<0.5.0,>=0.4.0 (from tensorflow)\n",
            "  Downloading ml_dtypes-0.4.1-cp311-cp311-macosx_10_9_universal2.whl.metadata (20 kB)\n",
            "Collecting tensorflow-io-gcs-filesystem>=0.23.1 (from tensorflow)\n",
            "  Downloading tensorflow_io_gcs_filesystem-0.37.1-cp311-cp311-macosx_12_0_arm64.whl.metadata (14 kB)\n",
            "Requirement already satisfied: wheel<1.0,>=0.23.0 in /Users/aryanmalhotra/anaconda3/lib/python3.11/site-packages (from astunparse>=1.6.0->tensorflow) (0.38.4)\n",
            "Collecting rich (from keras>=3.5.0->tensorflow)\n",
            "  Downloading rich-13.9.4-py3-none-any.whl.metadata (18 kB)\n",
            "Collecting namex (from keras>=3.5.0->tensorflow)\n",
            "  Downloading namex-0.0.8-py3-none-any.whl.metadata (246 bytes)\n",
            "Collecting optree (from keras>=3.5.0->tensorflow)\n",
            "  Downloading optree-0.14.1-cp311-cp311-macosx_11_0_arm64.whl.metadata (49 kB)\n",
            "Requirement already satisfied: charset-normalizer<4,>=2 in /Users/aryanmalhotra/anaconda3/lib/python3.11/site-packages (from requests<3,>=2.21.0->tensorflow) (3.3.2)\n",
            "Requirement already satisfied: idna<4,>=2.5 in /Users/aryanmalhotra/anaconda3/lib/python3.11/site-packages (from requests<3,>=2.21.0->tensorflow) (3.7)\n",
            "Requirement already satisfied: urllib3<3,>=1.21.1 in /Users/aryanmalhotra/anaconda3/lib/python3.11/site-packages (from requests<3,>=2.21.0->tensorflow) (2.2.2)\n",
            "Requirement already satisfied: certifi>=2017.4.17 in /Users/aryanmalhotra/anaconda3/lib/python3.11/site-packages (from requests<3,>=2.21.0->tensorflow) (2025.1.31)\n",
            "Collecting markdown>=2.6.8 (from tensorboard<2.19,>=2.18->tensorflow)\n",
            "  Downloading Markdown-3.7-py3-none-any.whl.metadata (7.0 kB)\n",
            "Collecting tensorboard-data-server<0.8.0,>=0.7.0 (from tensorboard<2.19,>=2.18->tensorflow)\n",
            "  Downloading tensorboard_data_server-0.7.2-py3-none-any.whl.metadata (1.1 kB)\n",
            "Collecting werkzeug>=1.0.1 (from tensorboard<2.19,>=2.18->tensorflow)\n",
            "  Downloading werkzeug-3.1.3-py3-none-any.whl.metadata (3.7 kB)\n",
            "Requirement already satisfied: MarkupSafe>=2.1.1 in /Users/aryanmalhotra/anaconda3/lib/python3.11/site-packages (from werkzeug>=1.0.1->tensorboard<2.19,>=2.18->tensorflow) (2.1.3)\n",
            "Collecting markdown-it-py>=2.2.0 (from rich->keras>=3.5.0->tensorflow)\n",
            "  Downloading markdown_it_py-3.0.0-py3-none-any.whl.metadata (6.9 kB)\n",
            "Requirement already satisfied: pygments<3.0.0,>=2.13.0 in /Users/aryanmalhotra/anaconda3/lib/python3.11/site-packages (from rich->keras>=3.5.0->tensorflow) (2.19.1)\n",
            "Collecting mdurl~=0.1 (from markdown-it-py>=2.2.0->rich->keras>=3.5.0->tensorflow)\n",
            "  Downloading mdurl-0.1.2-py3-none-any.whl.metadata (1.6 kB)\n",
            "Downloading tensorflow-2.18.0-cp311-cp311-macosx_12_0_arm64.whl (239.5 MB)\n",
            "\u001b[2K   \u001b[91m━━━━━━━━━━━━━━━━━━━━━━━━━━━━━━━━━━━\u001b[0m\u001b[91m╸\u001b[0m\u001b[90m━━━\u001b[0m \u001b[32m220.2/239.5 MB\u001b[0m \u001b[31m519.9 kB/s\u001b[0m eta \u001b[36m0:00:38\u001b[0m"
          ]
        }
      ],
      "source": [
        "pip install tensorflow"
      ]
    },
    {
      "cell_type": "code",
      "execution_count": 42,
      "metadata": {},
      "outputs": [
        {
          "ename": "ModuleNotFoundError",
          "evalue": "No module named 'tensorflow'",
          "output_type": "error",
          "traceback": [
            "\u001b[31m---------------------------------------------------------------------------\u001b[39m",
            "\u001b[31mModuleNotFoundError\u001b[39m                       Traceback (most recent call last)",
            "\u001b[36mCell\u001b[39m\u001b[36m \u001b[39m\u001b[32mIn[42]\u001b[39m\u001b[32m, line 1\u001b[39m\n\u001b[32m----> \u001b[39m\u001b[32m1\u001b[39m \u001b[38;5;28;01mimport\u001b[39;00m\u001b[38;5;250m \u001b[39m\u001b[34;01mtensorflow\u001b[39;00m\u001b[38;5;250m \u001b[39m\u001b[38;5;28;01mas\u001b[39;00m\u001b[38;5;250m \u001b[39m\u001b[34;01mtf\u001b[39;00m\n\u001b[32m      2\u001b[39m \u001b[38;5;28;01mfrom\u001b[39;00m\u001b[38;5;250m \u001b[39m\u001b[34;01mtensorflow\u001b[39;00m\u001b[38;5;250m \u001b[39m\u001b[38;5;28;01mimport\u001b[39;00m keras\n\u001b[32m      3\u001b[39m \u001b[38;5;28;01mfrom\u001b[39;00m\u001b[38;5;250m \u001b[39m\u001b[34;01msklearn\u001b[39;00m\u001b[34;01m.\u001b[39;00m\u001b[34;01mpreprocessing\u001b[39;00m\u001b[38;5;250m \u001b[39m\u001b[38;5;28;01mimport\u001b[39;00m StandardScaler\n",
            "\u001b[31mModuleNotFoundError\u001b[39m: No module named 'tensorflow'"
          ]
        }
      ],
      "source": [
        "import tensorflow as tf\n",
        "from tensorflow import keras\n",
        "from sklearn.preprocessing import StandardScaler\n",
        "import numpy as np\n",
        "\n",
        "# Normalize features\n",
        "scaler = StandardScaler()\n",
        "x_scaled = scaler.fit_transform(x)\n",
        "\n",
        "# Reshape data for CNN (adding an extra dimension)\n",
        "x_cnn = x_scaled.reshape(x_scaled.shape[0], x_scaled.shape[1], 1)\n",
        "\n",
        "# Split data\n",
        "x_train_cnn, x_test_cnn, y_train, y_test = train_test_split(x_cnn, y, test_size=0.2, random_state=10)\n",
        "\n",
        "# Define CNN model\n",
        "model = keras.Sequential([\n",
        "    keras.layers.Conv1D(filters=64, kernel_size=3, activation='relu', input_shape=(x_train_cnn.shape[1], 1)),\n",
        "    keras.layers.Conv1D(filters=32, kernel_size=3, activation='relu'),\n",
        "    keras.layers.Flatten(),\n",
        "    keras.layers.Dense(128, activation='relu'),\n",
        "    keras.layers.Dense(64, activation='relu'),\n",
        "    keras.layers.Dense(1)  # Output layer for regression\n",
        "])\n",
        "\n",
        "# Compile the model\n",
        "model.compile(optimizer='adam', loss='mse', metrics=['mae'])\n",
        "\n",
        "# Train the model\n",
        "model.fit(x_train_cnn, y_train, epochs=100, batch_size=32, validation_data=(x_test_cnn, y_test))\n",
        "\n",
        "# Evaluate the model\n",
        "test_loss, test_mae = model.evaluate(x_test_cnn, y_test)\n",
        "print(f\"Mean Absolute Error on Test Set: {test_mae}\")\n"
      ]
    },
    {
      "cell_type": "code",
      "execution_count": 95,
      "metadata": {
        "id": "PjvdvlZ2e_L2"
      },
      "outputs": [],
      "source": [
        "# def predict_price(region,area,bhk):\n",
        "#   loc_index = np.where(x.columns==region)[0][0]\n",
        "\n",
        "#   X = np.zeros(len(x.columns))\n",
        "\n",
        "#   X[0] = area\n",
        "#   X[1] = bhk\n",
        "#   if loc_index >= 0:\n",
        "#     X[loc_index] = 1\n",
        "\n",
        "#   return lr_clf.predict([X])[0]"
      ]
    },
    {
      "cell_type": "code",
      "execution_count": 109,
      "metadata": {
        "id": "JiGhXQSKK0q-"
      },
      "outputs": [],
      "source": [
        "def predict_price(region, area, bhk):\n",
        "    # Start with an array of zeros with the length equal to the number of features in x_train\n",
        "    X = np.zeros(len(x_train.columns))\n",
        "\n",
        "    # Find the index of the region in the feature set\n",
        "    loc_index = np.where(x_train.columns == region)[0][0]\n",
        "\n",
        "    # Set the area and bhk values (assuming area and bhk are the first two features)\n",
        "    X[0] = bhk\n",
        "    X[1] = area\n",
        "\n",
        "    # Set the correct region feature to 1\n",
        "    if loc_index >= 0:\n",
        "        X[loc_index] = 1\n",
        "\n",
        "    # Predict using the trained Linear Regression model\n",
        "    return lr_clf2.predict([X])[0]\n"
      ]
    },
    {
      "cell_type": "code",
      "execution_count": 112,
      "metadata": {
        "colab": {
          "base_uri": "https://localhost:8080/"
        },
        "id": "nKiJ2Wn-f190",
        "outputId": "5574c076-10d0-4524-d260-59047fcb7cf9"
      },
      "outputs": [
        {
          "name": "stderr",
          "output_type": "stream",
          "text": [
            "/usr/local/lib/python3.10/dist-packages/sklearn/base.py:465: UserWarning: X does not have valid feature names, but DecisionTreeRegressor was fitted with feature names\n",
            "  warnings.warn(\n"
          ]
        },
        {
          "data": {
            "text/plain": [
              "62.0"
            ]
          },
          "execution_count": 112,
          "metadata": {},
          "output_type": "execute_result"
        }
      ],
      "source": [
        "predict_price(region='Naigaon East',area=800,bhk=3)"
      ]
    },
    {
      "cell_type": "code",
      "execution_count": 113,
      "metadata": {
        "id": "r75BqKV5Cxid"
      },
      "outputs": [],
      "source": [
        "import pickle\n",
        "with open('Mumbai_House_Prices_Model.pickle','wb') as f:\n",
        "  pickle.dump(lr_clf2,f)"
      ]
    },
    {
      "cell_type": "code",
      "execution_count": 114,
      "metadata": {
        "id": "uQ7Lfnl7kVwA"
      },
      "outputs": [],
      "source": [
        "import json\n",
        "columns = {\n",
        "    'data_columns' : [col.lower() for col in x.columns]\n",
        "}\n",
        "with open(\"columns.json\",\"w\") as f:\n",
        "  f.write(json.dumps(columns))"
      ]
    },
    {
      "cell_type": "code",
      "execution_count": null,
      "metadata": {
        "id": "civZ9oBokjUF"
      },
      "outputs": [],
      "source": []
    }
  ],
  "metadata": {
    "colab": {
      "provenance": []
    },
    "kernelspec": {
      "display_name": "Python 3",
      "name": "python3"
    },
    "language_info": {
      "codemirror_mode": {
        "name": "ipython",
        "version": 3
      },
      "file_extension": ".py",
      "mimetype": "text/x-python",
      "name": "python",
      "nbconvert_exporter": "python",
      "pygments_lexer": "ipython3",
      "version": "3.11.8"
    }
  },
  "nbformat": 4,
  "nbformat_minor": 0
}
